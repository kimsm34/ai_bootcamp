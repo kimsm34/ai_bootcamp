{
 "cells": [
  {
   "cell_type": "code",
   "execution_count": 1,
   "id": "3c852cc0",
   "metadata": {
    "executionInfo": {
     "elapsed": 2946,
     "status": "ok",
     "timestamp": 1660814364989,
     "user": {
      "displayName": "­조휘찬 / 학생 / 조선해양공학과",
      "userId": "01397641777032298513"
     },
     "user_tz": -540
    },
    "id": "3c852cc0"
   },
   "outputs": [],
   "source": [
    "from torch.nn.modules.activation import ReLU\n",
    "\n",
    "import torch\n",
    "import torch.nn as nn"
   ]
  },
  {
   "cell_type": "code",
   "execution_count": 2,
   "id": "Es5RgzkYFRgD",
   "metadata": {
    "executionInfo": {
     "elapsed": 12,
     "status": "ok",
     "timestamp": 1660814364990,
     "user": {
      "displayName": "­조휘찬 / 학생 / 조선해양공학과",
      "userId": "01397641777032298513"
     },
     "user_tz": -540
    },
    "id": "Es5RgzkYFRgD"
   },
   "outputs": [],
   "source": [
    "def conv_bn_relu_pool(in_channels, out_channels, kernel_size=2, stride=1, padding=0):\n",
    "  return nn.Sequential(\n",
    "         nn.Conv2d(in_channels, out_channels, kernel_size=kernel_size, stride=stride, padding=padding, bias=False),\n",
    "         nn.BatchNorm2d(out_channels),\n",
    "         nn.ReLU(inplace=True),\n",
    "         nn.MaxPool2d(kernel_size=kernel_size, stride=2, padding=0)\n",
    "    )"
   ]
  },
  {
   "cell_type": "code",
   "execution_count": 3,
   "id": "f4muwFDJJ4wL",
   "metadata": {
    "executionInfo": {
     "elapsed": 10,
     "status": "ok",
     "timestamp": 1660814364990,
     "user": {
      "displayName": "­조휘찬 / 학생 / 조선해양공학과",
      "userId": "01397641777032298513"
     },
     "user_tz": -540
    },
    "id": "f4muwFDJJ4wL"
   },
   "outputs": [],
   "source": [
    "def fc_bn_relu(in_features, out_features):\n",
    "  return nn.Sequential(\n",
    "      nn.Linear(in_features=in_features, out_features=out_features, bias=False),\n",
    "      nn.BatchNorm1d(out_features),\n",
    "      nn.ReLU(inplace=True)\n",
    "  )"
   ]
  },
  {
   "cell_type": "code",
   "execution_count": 4,
   "id": "4zt-vZfvNw-q",
   "metadata": {
    "executionInfo": {
     "elapsed": 10,
     "status": "ok",
     "timestamp": 1660814364991,
     "user": {
      "displayName": "­조휘찬 / 학생 / 조선해양공학과",
      "userId": "01397641777032298513"
     },
     "user_tz": -540
    },
    "id": "4zt-vZfvNw-q"
   },
   "outputs": [],
   "source": [
    "class my_model(nn.Module):\n",
    "    def __init__(self):\n",
    "        ## 여기에 코드 작성\n",
    "        super().__init__()\n",
    "        \n",
    "        self.expand_channels = nn.Sequential(\n",
    "            nn.Conv2d(in_channels=1, out_channels=32, kernel_size=1, stride=1, padding=0, bias=False),\n",
    "            nn.BatchNorm2d(32),\n",
    "            nn.ReLU(inplace=True)\n",
    "        )\n",
    "        \n",
    "        self.conv_bn_relu = nn.Sequential(\n",
    "            nn.Conv2d(in_channels=32, out_channels=64, kernel_size=2, stride=1, padding=0, bias=False),\n",
    "            nn.BatchNorm2d(64),\n",
    "            nn.ReLU(inplace=True))\n",
    "        \n",
    "        self.conv_bn_relu_pool1 = conv_bn_relu_pool(64, 128, kernel_size=2, stride=1, padding=0)\n",
    "        self.conv_bn_relu_pool2 = conv_bn_relu_pool(128, 256, kernel_size=2, stride=1, padding=0)\n",
    "        self.conv_bn_relu_pool3 = conv_bn_relu_pool(256, 512, kernel_size=2, stride=1, padding=0)\n",
    "        self.conv_bn_relu_pool4 = conv_bn_relu_pool(512, 1024, kernel_size=2, stride=1, padding=0)\n",
    "\n",
    "        self.flatten = nn.Flatten()\n",
    "\n",
    "        self.fc_bn_relu1 = fc_bn_relu(in_features=1024*2*2, out_features=512)\n",
    "        self.fc_bn_relu2 = fc_bn_relu(in_features=512, out_features=512)\n",
    "        self.fc_bn_relu3 = fc_bn_relu(in_features=512, out_features=7)\n",
    "\n",
    "\n",
    "    def forward(self, x):\n",
    "        ## 여기에 코드 작성\n",
    "        x = self.expand_channels(x)\n",
    "        x = self.conv_bn_relu(x)\n",
    "        x = self.conv_bn_relu_pool1(x)\n",
    "        x = self.conv_bn_relu_pool2(x)\n",
    "        x = self.conv_bn_relu_pool3(x)\n",
    "        x = self.conv_bn_relu_pool4(x)\n",
    "        x = self.flatten(x)\n",
    "        x = self.fc_bn_relu1(x)\n",
    "        x = self.fc_bn_relu2(x)\n",
    "        x = self.fc_bn_relu3(x)\n",
    "\n",
    "        return x"
   ]
  },
  {
   "cell_type": "code",
   "execution_count": 5,
   "id": "kgB3416bK--h",
   "metadata": {
    "colab": {
     "base_uri": "https://localhost:8080/"
    },
    "executionInfo": {
     "elapsed": 10,
     "status": "ok",
     "timestamp": 1660814364991,
     "user": {
      "displayName": "­조휘찬 / 학생 / 조선해양공학과",
      "userId": "01397641777032298513"
     },
     "user_tz": -540
    },
    "id": "kgB3416bK--h",
    "outputId": "77704a6c-6b89-4d59-a51e-5fed3a0b80ec"
   },
   "outputs": [],
   "source": [
    "if __name__ == '__main__':\n",
    "    x = torch.randn((2, 1, 48, 48))\n",
    "    model = my_model()\n",
    "    y = model(x)\n",
    "    #print(y.squeeze().shape)"
   ]
  },
  {
   "cell_type": "code",
   "execution_count": null,
   "id": "f0e525a4",
   "metadata": {},
   "outputs": [],
   "source": []
  }
 ],
 "metadata": {
  "accelerator": "GPU",
  "colab": {
   "collapsed_sections": [],
   "name": "vision_model_final.ipynb",
   "provenance": []
  },
  "gpuClass": "standard",
  "kernelspec": {
   "display_name": "Python 3 (ipykernel)",
   "language": "python",
   "name": "python3"
  },
  "language_info": {
   "codemirror_mode": {
    "name": "ipython",
    "version": 3
   },
   "file_extension": ".py",
   "mimetype": "text/x-python",
   "name": "python",
   "nbconvert_exporter": "python",
   "pygments_lexer": "ipython3",
   "version": "3.9.12"
  }
 },
 "nbformat": 4,
 "nbformat_minor": 5
}
