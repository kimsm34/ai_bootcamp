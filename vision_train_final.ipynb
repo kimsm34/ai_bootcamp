{
 "cells": [
  {
   "cell_type": "code",
   "execution_count": null,
   "metadata": {
    "colab": {
     "base_uri": "https://localhost:8080/"
    },
    "executionInfo": {
     "elapsed": 2298,
     "status": "ok",
     "timestamp": 1660840510184,
     "user": {
      "displayName": "조휘찬",
      "userId": "16519095638140882502"
     },
     "user_tz": -540
    },
    "id": "BUeTXz_ii9AG",
    "outputId": "d1e91881-6c86-4d6e-95a8-87eff39d2b81"
   },
   "outputs": [
    {
     "name": "stdout",
     "output_type": "stream",
     "text": [
      "Drive already mounted at /content/drive; to attempt to forcibly remount, call drive.mount(\"/content/drive\", force_remount=True).\n"
     ]
    }
   ],
   "source": [
    "from google.colab import drive\n",
    "drive.mount('/content/drive')"
   ]
  },
  {
   "cell_type": "code",
   "execution_count": null,
   "metadata": {
    "colab": {
     "base_uri": "https://localhost:8080/"
    },
    "executionInfo": {
     "elapsed": 10240,
     "status": "ok",
     "timestamp": 1660840520416,
     "user": {
      "displayName": "조휘찬",
      "userId": "16519095638140882502"
     },
     "user_tz": -540
    },
    "id": "8yrGpYdWMU_p",
    "outputId": "4ca8045e-7fe9-4997-dc4b-b00f1b3025b9"
   },
   "outputs": [
    {
     "name": "stdout",
     "output_type": "stream",
     "text": [
      "/content/drive/MyDrive/NLP\n",
      "Looking in indexes: https://pypi.org/simple, https://us-python.pkg.dev/colab-wheels/public/simple/\n",
      "Requirement already satisfied: import-ipynb in /usr/local/lib/python3.7/dist-packages (0.1.4)\n",
      "Requirement already satisfied: IPython in /usr/local/lib/python3.7/dist-packages (from import-ipynb) (7.9.0)\n",
      "Requirement already satisfied: nbformat in /usr/local/lib/python3.7/dist-packages (from import-ipynb) (5.4.0)\n",
      "Requirement already satisfied: prompt-toolkit<2.1.0,>=2.0.0 in /usr/local/lib/python3.7/dist-packages (from IPython->import-ipynb) (2.0.10)\n",
      "Requirement already satisfied: backcall in /usr/local/lib/python3.7/dist-packages (from IPython->import-ipynb) (0.2.0)\n",
      "Requirement already satisfied: setuptools>=18.5 in /usr/local/lib/python3.7/dist-packages (from IPython->import-ipynb) (57.4.0)\n",
      "Requirement already satisfied: pickleshare in /usr/local/lib/python3.7/dist-packages (from IPython->import-ipynb) (0.7.5)\n",
      "Requirement already satisfied: traitlets>=4.2 in /usr/local/lib/python3.7/dist-packages (from IPython->import-ipynb) (5.1.1)\n",
      "Requirement already satisfied: jedi>=0.10 in /usr/local/lib/python3.7/dist-packages (from IPython->import-ipynb) (0.18.1)\n",
      "Requirement already satisfied: decorator in /usr/local/lib/python3.7/dist-packages (from IPython->import-ipynb) (4.4.2)\n",
      "Requirement already satisfied: pexpect in /usr/local/lib/python3.7/dist-packages (from IPython->import-ipynb) (4.8.0)\n",
      "Requirement already satisfied: pygments in /usr/local/lib/python3.7/dist-packages (from IPython->import-ipynb) (2.6.1)\n",
      "Requirement already satisfied: parso<0.9.0,>=0.8.0 in /usr/local/lib/python3.7/dist-packages (from jedi>=0.10->IPython->import-ipynb) (0.8.3)\n",
      "Requirement already satisfied: six>=1.9.0 in /usr/local/lib/python3.7/dist-packages (from prompt-toolkit<2.1.0,>=2.0.0->IPython->import-ipynb) (1.15.0)\n",
      "Requirement already satisfied: wcwidth in /usr/local/lib/python3.7/dist-packages (from prompt-toolkit<2.1.0,>=2.0.0->IPython->import-ipynb) (0.2.5)\n",
      "Requirement already satisfied: jsonschema>=2.6 in /usr/local/lib/python3.7/dist-packages (from nbformat->import-ipynb) (4.3.3)\n",
      "Requirement already satisfied: jupyter-core in /usr/local/lib/python3.7/dist-packages (from nbformat->import-ipynb) (4.11.1)\n",
      "Requirement already satisfied: fastjsonschema in /usr/local/lib/python3.7/dist-packages (from nbformat->import-ipynb) (2.16.1)\n",
      "Requirement already satisfied: importlib-metadata in /usr/local/lib/python3.7/dist-packages (from jsonschema>=2.6->nbformat->import-ipynb) (4.12.0)\n",
      "Requirement already satisfied: typing-extensions in /usr/local/lib/python3.7/dist-packages (from jsonschema>=2.6->nbformat->import-ipynb) (4.1.1)\n",
      "Requirement already satisfied: importlib-resources>=1.4.0 in /usr/local/lib/python3.7/dist-packages (from jsonschema>=2.6->nbformat->import-ipynb) (5.9.0)\n",
      "Requirement already satisfied: pyrsistent!=0.17.0,!=0.17.1,!=0.17.2,>=0.14.0 in /usr/local/lib/python3.7/dist-packages (from jsonschema>=2.6->nbformat->import-ipynb) (0.18.1)\n",
      "Requirement already satisfied: attrs>=17.4.0 in /usr/local/lib/python3.7/dist-packages (from jsonschema>=2.6->nbformat->import-ipynb) (22.1.0)\n",
      "Requirement already satisfied: zipp>=3.1.0 in /usr/local/lib/python3.7/dist-packages (from importlib-resources>=1.4.0->jsonschema>=2.6->nbformat->import-ipynb) (3.8.1)\n",
      "Requirement already satisfied: ptyprocess>=0.5 in /usr/local/lib/python3.7/dist-packages (from pexpect->IPython->import-ipynb) (0.7.0)\n",
      "Looking in indexes: https://pypi.org/simple, https://us-python.pkg.dev/colab-wheels/public/simple/\n",
      "Requirement already satisfied: tensorboardX in /usr/local/lib/python3.7/dist-packages (2.5.1)\n",
      "Requirement already satisfied: numpy in /usr/local/lib/python3.7/dist-packages (from tensorboardX) (1.21.6)\n",
      "Requirement already satisfied: protobuf<=3.20.1,>=3.8.0 in /usr/local/lib/python3.7/dist-packages (from tensorboardX) (3.17.3)\n",
      "Requirement already satisfied: six>=1.9 in /usr/local/lib/python3.7/dist-packages (from protobuf<=3.20.1,>=3.8.0->tensorboardX) (1.15.0)\n",
      "Looking in indexes: https://pypi.org/simple, https://us-python.pkg.dev/colab-wheels/public/simple/\n",
      "Requirement already satisfied: tqdm in /usr/local/lib/python3.7/dist-packages (4.64.0)\n",
      "importing Jupyter notebook from vision_model_final.ipynb\n",
      "importing Jupyter notebook from vision_dataset_final.ipynb\n"
     ]
    }
   ],
   "source": [
    "%cd /content/drive/MyDrive/NLP\n",
    "!pip install import-ipynb\n",
    "!pip install tensorboardX\n",
    "!pip install tqdm\n",
    "\n",
    "# TensorBoard를 사용하면 손실 및 정확도와 같은 측정 항목을 추적 및 시각화하는 것, 모델 그래프를 시각화하는 것, 히스토그램을 보는 것, 이미지를 출력하는 것 등이 가능\n",
    "import torch.utils.tensorboard as tensorboard \n",
    "import import_ipynb\n",
    "import numpy as np\n",
    "from tqdm import tqdm\n",
    "\n",
    "import os\n",
    "\n",
    "#from vision_model_final_sol import Mini_Xception\n",
    "#from vision_dataset_final_sol import create_train_dataloader, create_val_dataloader\n",
    "from vision_model_final import my_model\n",
    "from vision_dataset_final import create_train_dataloader, create_val_dataloader\n",
    "\n",
    "import torch\n",
    "import torch.nn as nn\n",
    "import torch.optim\n",
    "\n",
    "from sklearn.metrics import accuracy_score\n",
    "import random"
   ]
  },
  {
   "cell_type": "markdown",
   "metadata": {
    "id": "mOXy--GEMU_r"
   },
   "source": [
    "**잠깐 ✔ 랜덤시드 고정이란 무엇인가?**\n",
    "> 학습된 모델의 결과를 동일하게 재현(Reproduction)하는 것은 여러가지 상황에서 팔요합니다.  \n",
    "> 모델을 돌릴 때마다 결과가 달라지지 않도록 고정하는 것입니다.\n",
    "\n",
    "- 수상자가 되어 코드의 정합성을 검증 받게 될 경우,\n",
    "\n",
    "- 경진대회 참가 도중 팀을 이루어 결과를 공유해야 되는 경우,\n",
    "\n",
    "- 논문을 작성하여 그 결과를 Reproduction 해야하는 경우 등 여러 상황에서 필요합니다.\n",
    "\n",
    "참고 자료:\n",
    "https://dacon.io/codeshare/2363\n",
    "https://pytorch.org/docs/stable/notes/randomness.html"
   ]
  },
  {
   "cell_type": "code",
   "execution_count": null,
   "metadata": {
    "id": "_3kNpJFyMU_s"
   },
   "outputs": [],
   "source": [
    "seed_val = 2022\n",
    "random.seed(seed_val)\n",
    "np.random.seed(seed_val)\n",
    "torch.manual_seed(seed_val)\n",
    "torch.cuda.manual_seed_all(seed_val)"
   ]
  },
  {
   "cell_type": "code",
   "execution_count": null,
   "metadata": {
    "id": "r0V9ZUYIS2Ar"
   },
   "outputs": [],
   "source": [
    "batch_size = 16\n",
    "train_dataloader = create_train_dataloader(root='./data', batch_size = batch_size)\n",
    "valid_dataloader = create_val_dataloader(root='./data', batch_size = batch_size)"
   ]
  },
  {
   "cell_type": "code",
   "execution_count": null,
   "metadata": {
    "id": "EhFF6_J3TCLo"
   },
   "outputs": [],
   "source": [
    "device = torch.device(\"cuda\" if torch.cuda.is_available() else \"cpu\")\n",
    "criterion = nn.CrossEntropyLoss()\n",
    "# tensorboard 만들기(epoch마다 loss와 정확도 변화의 경향을 파악하는 데 좋다.) -> 선택 사항\n",
    "#writer = tensorboard.SummaryWriter()# todo, 경로 설정)\n",
    "# 모델 정의하기\n",
    "## 여기에 코드 작성\n",
    "model = my_model()\n",
    "optimizer = torch.optim.Adam(model.parameters(), lr=0.001)"
   ]
  },
  {
   "cell_type": "code",
   "execution_count": null,
   "metadata": {
    "id": "WXDHsT4CTH0S"
   },
   "outputs": [],
   "source": [
    "def train(model, dataloader): # train 과정에서의 손실을 계산하는 함수 작성\n",
    "    model.train()\n",
    "    model.to(device)\n",
    "    ## 여기에 코드 작성\n",
    "    # 더 필요한 변수나 작업이 있다면 작성해봅시다. 정해진 틀은 없으며 자유롭게 작성하시면 됩니다. loss나 optimizer로 어떤 것을 사용할건지 등..\n",
    "    losses = []\n",
    "    for images, labels in tqdm(dataloader):\n",
    "        ## 여기에 코드 작성\n",
    "        images = images.to(device)\n",
    "        labels = labels.to(device)\n",
    "        \n",
    "        preds = torch.squeeze(model(images))\n",
    "        loss = criterion(preds,labels)\n",
    "        losses.append(loss.cpu().item())\n",
    "        ## 여기에 코드 작성\n",
    "        # back propagation을 떠올려보며 train 코드를 마무리하기\n",
    "        optimizer.zero_grad()\n",
    "        loss.backward()\n",
    "        optimizer.step()\n",
    "        # gradient clipping, scehduler not applied\n",
    "    final_loss = np.mean(losses).item()\n",
    "    return final_loss"
   ]
  },
  {
   "cell_type": "code",
   "execution_count": null,
   "metadata": {
    "id": "jqS1LaDnTIkZ"
   },
   "outputs": [],
   "source": [
    "def validation(model, dataloader): \n",
    "  # 중간미션 1에서 with torch.no_grad(): 부분에 작성하였던 test accuracy를 구하는 방법을 떠올려보면 됩니다. \n",
    "  # train 과정에서의 손실도 중요하나 최종적으로 random data을 넣어서 test를 한 후의 정확도를 얻어야 합니다.\n",
    "    model.eval() # 왜 설정할까요? # evaluation 과정에서 사용하지 않아야 하는 layer들을 알아서 off 시키도록 하는 함수ㅇㅇ\n",
    "    model.to(device)\n",
    "    ## 여기에 코드 작성\n",
    "    # 변수 필요한거 설정 (loss로 어떤걸 사용할건지 등)\n",
    "    losses = []\n",
    "    with torch.no_grad(): \n",
    "        # 학습이 x 모델 성능 평가 따라서 autograd하지 않음!!\n",
    "        for images, labels in dataloader:\n",
    "            minibatch = images.shape[0] # todo code\n",
    "            images = images.to(device)\n",
    "            labels = labels.to(device)\n",
    "\n",
    "            # 이제 images을 모델에 통과시켜 얻은 예측값으로 loss을 구해야 합니다.\n",
    "            # 이를 criterion 함수에 넣기 위해선 먼저 예측값을 (minibatch, # of class)의 형태로 shape을 맞춰주어야 합니다. minibatch의 수를 알 수 있다면 편합니다!\n",
    "            ## 여기에 코드 작성\n",
    "            preds = torch.squeeze(model(images))\n",
    "            preds = preds.reshape(minibatch, -1)\n",
    "            loss = criterion(preds,labels)\n",
    "            losses.append(loss.cpu().item())\n",
    "        final_loss = np.mean(losses).item()\n",
    "            # 이제 model을 거쳐 얻은 텐서에서 가장 큰 값을 갖는 곳의 index을 알아야 emotion이 무엇인지 알 수 있습니다.\n",
    "            # index을 구해보고 이를 통해 index와 label간 차이로 정확도를 구합시다. 참고: https://pytorch.org/docs/stable/generated/torch.max.html\n",
    "            # Scikit learn의 accuracy_score을 이용하고 싶다면 어떤식으로 예측값과 정답을 처리해야 할 지 고민해 봅시다.\n",
    "            ## 여기에 코드 작성\n",
    "        correct = 0 # 맞은 개수 세기 위해 int 정의\n",
    "        total = 0 # 전체 실행 개수를 세서 정확도를 계산하기 위해 int 정의\n",
    "\n",
    "        for images, labels in dataloader :\n",
    "            images = images.to(device)\n",
    "            labels = labels.to(device)\n",
    "            preds = torch.squeeze(model(images))\n",
    "            preds = torch.argmax(preds,dim=1)## todo code # 가장 높은 확률의 것을 prediction으로 반환.\n",
    "            correct += (labels==preds).sum().item()## label과 prediction이 일치하는 개수 세기 \n",
    "            total += labels.shape[0]\n",
    "        accuracy = correct / total\n",
    "        \n",
    "        # 최종 loss와 정확도(소수점 넷째 자리까지)를 출력해봅시다. \n",
    "        #print(f'Val loss = {final_loss} .. Accuracy = {accuracy:.4f} ')\n",
    "\n",
    "        return final_loss, accuracy"
   ]
  },
  {
   "cell_type": "code",
   "execution_count": null,
   "metadata": {
    "colab": {
     "base_uri": "https://localhost:8080/"
    },
    "id": "nD3g0gbtTMR5",
    "outputId": "631d7a77-d6dc-472e-a068-c5c9308c9067"
   },
   "outputs": [
    {
     "name": "stdout",
     "output_type": "stream",
     "text": [
      "Training!\n"
     ]
    },
    {
     "name": "stderr",
     "output_type": "stream",
     "text": [
      "100%|██████████| 1795/1795 [00:51<00:00, 34.63it/s]\n"
     ]
    },
    {
     "name": "stdout",
     "output_type": "stream",
     "text": [
      "epoch = 0 loss_train = 1.5440188039312124 loss_valid = 1.346120178434584 accuracy = 0.5098913346336027\n"
     ]
    },
    {
     "name": "stderr",
     "output_type": "stream",
     "text": [
      "100%|██████████| 1795/1795 [00:41<00:00, 42.91it/s]\n"
     ]
    },
    {
     "name": "stdout",
     "output_type": "stream",
     "text": [
      "epoch = 1 loss_train = 1.3258096747743717 loss_valid = 1.2480863229433696 accuracy = 0.5366397325160212\n"
     ]
    },
    {
     "name": "stderr",
     "output_type": "stream",
     "text": [
      "100%|██████████| 1795/1795 [00:41<00:00, 43.07it/s]\n"
     ]
    },
    {
     "name": "stdout",
     "output_type": "stream",
     "text": [
      "epoch = 2 loss_train = 1.2262310515207169 loss_valid = 1.1687598768870036 accuracy = 0.5781554750626916\n"
     ]
    },
    {
     "name": "stderr",
     "output_type": "stream",
     "text": [
      "100%|██████████| 1795/1795 [00:41<00:00, 43.22it/s]\n"
     ]
    },
    {
     "name": "stdout",
     "output_type": "stream",
     "text": [
      "epoch = 3 loss_train = 1.1462537783766191 loss_valid = 1.1117250646485222 accuracy = 0.5881861242685985\n"
     ]
    },
    {
     "name": "stderr",
     "output_type": "stream",
     "text": [
      "100%|██████████| 1795/1795 [00:41<00:00, 43.18it/s]\n"
     ]
    },
    {
     "name": "stdout",
     "output_type": "stream",
     "text": [
      "epoch = 4 loss_train = 1.0796855509281158 loss_valid = 1.0802162157164679 accuracy = 0.5943159654499861\n"
     ]
    },
    {
     "name": "stderr",
     "output_type": "stream",
     "text": [
      "100%|██████████| 1795/1795 [00:44<00:00, 40.07it/s]\n"
     ]
    },
    {
     "name": "stdout",
     "output_type": "stream",
     "text": [
      "epoch = 5 loss_train = 1.0098531846548522 loss_valid = 1.0380648554695977 accuracy = 0.6068542769573697\n"
     ]
    },
    {
     "name": "stderr",
     "output_type": "stream",
     "text": [
      "100%|██████████| 1795/1795 [00:41<00:00, 42.96it/s]\n"
     ]
    },
    {
     "name": "stdout",
     "output_type": "stream",
     "text": [
      "epoch = 6 loss_train = 0.9406468330817634 loss_valid = 1.043168903986613 accuracy = 0.6140986347171914\n"
     ]
    },
    {
     "name": "stderr",
     "output_type": "stream",
     "text": [
      "100%|██████████| 1795/1795 [00:42<00:00, 42.32it/s]\n"
     ]
    },
    {
     "name": "stdout",
     "output_type": "stream",
     "text": [
      "epoch = 7 loss_train = 0.8578049862617237 loss_valid = 1.0563761842250825 accuracy = 0.6182780718863193\n"
     ]
    },
    {
     "name": "stderr",
     "output_type": "stream",
     "text": [
      "100%|██████████| 1795/1795 [00:42<00:00, 41.94it/s]\n"
     ]
    },
    {
     "name": "stdout",
     "output_type": "stream",
     "text": [
      "epoch = 8 loss_train = 0.7768718496504601 loss_valid = 1.0533352687623765 accuracy = 0.6157704095848425\n"
     ]
    },
    {
     "name": "stderr",
     "output_type": "stream",
     "text": [
      "100%|██████████| 1795/1795 [00:45<00:00, 39.88it/s]\n"
     ]
    },
    {
     "name": "stdout",
     "output_type": "stream",
     "text": [
      "epoch = 9 loss_train = 0.6924635096014709 loss_valid = 1.0947796226872337 accuracy = 0.6191139593201449\n"
     ]
    },
    {
     "name": "stderr",
     "output_type": "stream",
     "text": [
      "100%|██████████| 1795/1795 [00:42<00:00, 41.98it/s]\n"
     ]
    },
    {
     "name": "stdout",
     "output_type": "stream",
     "text": [
      "epoch = 10 loss_train = 0.6111244976271494 loss_valid = 1.1049512917465634 accuracy = 0.620785734187796\n"
     ]
    },
    {
     "name": "stderr",
     "output_type": "stream",
     "text": [
      "100%|██████████| 1795/1795 [00:42<00:00, 41.83it/s]\n"
     ]
    },
    {
     "name": "stdout",
     "output_type": "stream",
     "text": [
      "epoch = 11 loss_train = 0.5353406782062273 loss_valid = 1.11700364112854 accuracy = 0.6188353301755364\n"
     ]
    },
    {
     "name": "stderr",
     "output_type": "stream",
     "text": [
      "100%|██████████| 1795/1795 [00:42<00:00, 41.93it/s]\n"
     ]
    },
    {
     "name": "stdout",
     "output_type": "stream",
     "text": [
      "epoch = 12 loss_train = 0.46730117638048024 loss_valid = 1.2238520187801785 accuracy = 0.6079687935358038\n"
     ]
    },
    {
     "name": "stderr",
     "output_type": "stream",
     "text": [
      "100%|██████████| 1795/1795 [00:45<00:00, 39.11it/s]\n"
     ]
    },
    {
     "name": "stdout",
     "output_type": "stream",
     "text": [
      "epoch = 13 loss_train = 0.40537317441283494 loss_valid = 1.139470526907179 accuracy = 0.620785734187796\n"
     ]
    },
    {
     "name": "stderr",
     "output_type": "stream",
     "text": [
      "100%|██████████| 1795/1795 [00:42<00:00, 41.77it/s]\n"
     ]
    },
    {
     "name": "stdout",
     "output_type": "stream",
     "text": [
      "epoch = 14 loss_train = 0.35865123842669067 loss_valid = 1.262673546075821 accuracy = 0.6046252438005015\n"
     ]
    },
    {
     "name": "stderr",
     "output_type": "stream",
     "text": [
      "100%|██████████| 1795/1795 [00:41<00:00, 43.49it/s]\n"
     ]
    },
    {
     "name": "stdout",
     "output_type": "stream",
     "text": [
      "epoch = 15 loss_train = 0.3181529708953787 loss_valid = 1.233695926533805 accuracy = 0.6263583170799666\n"
     ]
    },
    {
     "name": "stderr",
     "output_type": "stream",
     "text": [
      "100%|██████████| 1795/1795 [00:41<00:00, 43.71it/s]\n"
     ]
    },
    {
     "name": "stdout",
     "output_type": "stream",
     "text": [
      "epoch = 16 loss_train = 0.2860679983490855 loss_valid = 1.2441031964619955 accuracy = 0.6244079130677069\n"
     ]
    },
    {
     "name": "stderr",
     "output_type": "stream",
     "text": [
      "100%|██████████| 1795/1795 [00:43<00:00, 40.81it/s]\n"
     ]
    },
    {
     "name": "stdout",
     "output_type": "stream",
     "text": [
      "epoch = 17 loss_train = 0.26242352513321426 loss_valid = 1.221978908114963 accuracy = 0.625522429646141\n"
     ]
    },
    {
     "name": "stderr",
     "output_type": "stream",
     "text": [
      "100%|██████████| 1795/1795 [00:41<00:00, 43.49it/s]\n"
     ]
    },
    {
     "name": "stdout",
     "output_type": "stream",
     "text": [
      "epoch = 18 loss_train = 0.23386218645986076 loss_valid = 1.2800019499990676 accuracy = 0.6238506547784898\n"
     ]
    },
    {
     "name": "stderr",
     "output_type": "stream",
     "text": [
      "100%|██████████| 1795/1795 [00:41<00:00, 43.28it/s]\n"
     ]
    },
    {
     "name": "stdout",
     "output_type": "stream",
     "text": [
      "epoch = 19 loss_train = 0.212979030460223 loss_valid = 1.333450815015369 accuracy = 0.6221788799108386\n"
     ]
    },
    {
     "name": "stderr",
     "output_type": "stream",
     "text": [
      "100%|██████████| 1795/1795 [00:41<00:00, 43.53it/s]\n"
     ]
    },
    {
     "name": "stdout",
     "output_type": "stream",
     "text": [
      "epoch = 20 loss_train = 0.1939891151990482 loss_valid = 1.3146545721424951 accuracy = 0.6182780718863193\n"
     ]
    },
    {
     "name": "stderr",
     "output_type": "stream",
     "text": [
      "100%|██████████| 1795/1795 [00:43<00:00, 41.66it/s]\n"
     ]
    },
    {
     "name": "stdout",
     "output_type": "stream",
     "text": [
      "epoch = 21 loss_train = 0.185976905771596 loss_valid = 1.4292751100328234 accuracy = 0.6085260518250208\n"
     ]
    },
    {
     "name": "stderr",
     "output_type": "stream",
     "text": [
      "100%|██████████| 1795/1795 [00:41<00:00, 43.42it/s]\n"
     ]
    },
    {
     "name": "stdout",
     "output_type": "stream",
     "text": [
      "epoch = 22 loss_train = 0.16639141576561797 loss_valid = 1.3715500394503275 accuracy = 0.620785734187796\n"
     ]
    },
    {
     "name": "stderr",
     "output_type": "stream",
     "text": [
      "100%|██████████| 1795/1795 [00:41<00:00, 43.67it/s]\n"
     ]
    },
    {
     "name": "stdout",
     "output_type": "stream",
     "text": [
      "epoch = 23 loss_train = 0.16123621544974512 loss_valid = 1.4393654751115375 accuracy = 0.6110337141264977\n"
     ]
    },
    {
     "name": "stderr",
     "output_type": "stream",
     "text": [
      "100%|██████████| 1795/1795 [00:41<00:00, 43.36it/s]\n"
     ]
    },
    {
     "name": "stdout",
     "output_type": "stream",
     "text": [
      "epoch = 24 loss_train = 0.14842214968397924 loss_valid = 1.4671278664800855 accuracy = 0.6135413764279743\n"
     ]
    },
    {
     "name": "stderr",
     "output_type": "stream",
     "text": [
      "100%|██████████| 1795/1795 [00:41<00:00, 43.54it/s]\n"
     ]
    },
    {
     "name": "stdout",
     "output_type": "stream",
     "text": [
      "epoch = 25 loss_train = 0.14044197972988434 loss_valid = 1.5905552970700794 accuracy = 0.5998885483421565\n"
     ]
    },
    {
     "name": "stderr",
     "output_type": "stream",
     "text": [
      "100%|██████████| 1795/1795 [00:42<00:00, 42.11it/s]\n"
     ]
    },
    {
     "name": "stdout",
     "output_type": "stream",
     "text": [
      "epoch = 26 loss_train = 0.13771204085875313 loss_valid = 1.5048864810996585 accuracy = 0.6308163833937029\n"
     ]
    },
    {
     "name": "stderr",
     "output_type": "stream",
     "text": [
      "100%|██████████| 1795/1795 [00:42<00:00, 42.57it/s]\n"
     ]
    },
    {
     "name": "stdout",
     "output_type": "stream",
     "text": [
      "epoch = 27 loss_train = 0.12198162900003758 loss_valid = 1.4357096464104122 accuracy = 0.6146558930064084\n"
     ]
    },
    {
     "name": "stderr",
     "output_type": "stream",
     "text": [
      "100%|██████████| 1795/1795 [00:42<00:00, 42.57it/s]\n"
     ]
    },
    {
     "name": "stdout",
     "output_type": "stream",
     "text": [
      "epoch = 28 loss_train = 0.13006655278999596 loss_valid = 1.462406066523658 accuracy = 0.6238506547784898\n"
     ]
    },
    {
     "name": "stderr",
     "output_type": "stream",
     "text": [
      "100%|██████████| 1795/1795 [00:42<00:00, 42.22it/s]\n"
     ]
    },
    {
     "name": "stdout",
     "output_type": "stream",
     "text": [
      "epoch = 29 loss_train = 0.11522874876099294 loss_valid = 1.4594038897090489 accuracy = 0.624965171356924\n"
     ]
    },
    {
     "name": "stderr",
     "output_type": "stream",
     "text": [
      "100%|██████████| 1795/1795 [00:45<00:00, 39.75it/s]\n"
     ]
    },
    {
     "name": "stdout",
     "output_type": "stream",
     "text": [
      "epoch = 30 loss_train = 0.1120509991865906 loss_valid = 1.607233427233166 accuracy = 0.6054611312343271\n"
     ]
    },
    {
     "name": "stderr",
     "output_type": "stream",
     "text": [
      "100%|██████████| 1795/1795 [00:42<00:00, 42.21it/s]\n"
     ]
    },
    {
     "name": "stdout",
     "output_type": "stream",
     "text": [
      "epoch = 31 loss_train = 0.10519436722326879 loss_valid = 1.5416494154930114 accuracy = 0.604346614655893\n"
     ]
    },
    {
     "name": "stderr",
     "output_type": "stream",
     "text": [
      "100%|██████████| 1795/1795 [00:42<00:00, 41.82it/s]\n"
     ]
    },
    {
     "name": "stdout",
     "output_type": "stream",
     "text": [
      "epoch = 32 loss_train = 0.09911678228021437 loss_valid = 1.5673500572310555 accuracy = 0.6179994427417108\n"
     ]
    },
    {
     "name": "stderr",
     "output_type": "stream",
     "text": [
      "100%|██████████| 1795/1795 [00:41<00:00, 43.71it/s]\n"
     ]
    },
    {
     "name": "stdout",
     "output_type": "stream",
     "text": [
      "epoch = 33 loss_train = 0.09871557564137394 loss_valid = 1.571478354798423 accuracy = 0.6074115352465868\n"
     ]
    },
    {
     "name": "stderr",
     "output_type": "stream",
     "text": [
      "100%|██████████| 1795/1795 [00:43<00:00, 40.95it/s]\n"
     ]
    },
    {
     "name": "stdout",
     "output_type": "stream",
     "text": [
      "epoch = 34 loss_train = 0.09653319154611807 loss_valid = 1.5270795981089273 accuracy = 0.6129841181387573\n"
     ]
    },
    {
     "name": "stderr",
     "output_type": "stream",
     "text": [
      "100%|██████████| 1795/1795 [00:41<00:00, 43.63it/s]\n"
     ]
    },
    {
     "name": "stdout",
     "output_type": "stream",
     "text": [
      "epoch = 35 loss_train = 0.08730375357458632 loss_valid = 1.5914608340130911 accuracy = 0.6322095291167457\n"
     ]
    },
    {
     "name": "stderr",
     "output_type": "stream",
     "text": [
      "100%|██████████| 1795/1795 [00:41<00:00, 43.74it/s]\n"
     ]
    },
    {
     "name": "stdout",
     "output_type": "stream",
     "text": [
      "epoch = 36 loss_train = 0.0877591618225186 loss_valid = 1.5647495689656998 accuracy = 0.6291446085260518\n"
     ]
    },
    {
     "name": "stderr",
     "output_type": "stream",
     "text": [
      "100%|██████████| 1795/1795 [00:41<00:00, 43.67it/s]\n"
     ]
    },
    {
     "name": "stdout",
     "output_type": "stream",
     "text": [
      "epoch = 37 loss_train = 0.0882329246858109 loss_valid = 1.6131281961335076 accuracy = 0.6171635553078852\n"
     ]
    },
    {
     "name": "stderr",
     "output_type": "stream",
     "text": [
      "100%|██████████| 1795/1795 [00:43<00:00, 40.85it/s]\n"
     ]
    },
    {
     "name": "stdout",
     "output_type": "stream",
     "text": [
      "epoch = 38 loss_train = 0.07902316403935837 loss_valid = 1.7007714745733473 accuracy = 0.6129841181387573\n"
     ]
    },
    {
     "name": "stderr",
     "output_type": "stream",
     "text": [
      "100%|██████████| 1795/1795 [00:40<00:00, 43.93it/s]\n"
     ]
    },
    {
     "name": "stdout",
     "output_type": "stream",
     "text": [
      "epoch = 39 loss_train = 0.08637672914140196 loss_valid = 1.6126689110861885 accuracy = 0.6171635553078852\n"
     ]
    },
    {
     "name": "stderr",
     "output_type": "stream",
     "text": [
      "100%|██████████| 1795/1795 [00:40<00:00, 43.82it/s]\n"
     ]
    },
    {
     "name": "stdout",
     "output_type": "stream",
     "text": [
      "epoch = 40 loss_train = 0.07611119175877183 loss_valid = 1.6248553117116293 accuracy = 0.6258010587907495\n"
     ]
    },
    {
     "name": "stderr",
     "output_type": "stream",
     "text": [
      "100%|██████████| 1795/1795 [00:40<00:00, 43.80it/s]\n"
     ]
    },
    {
     "name": "stdout",
     "output_type": "stream",
     "text": [
      "epoch = 41 loss_train = 0.0766914960048823 loss_valid = 1.6875220044453938 accuracy = 0.614934522151017\n"
     ]
    },
    {
     "name": "stderr",
     "output_type": "stream",
     "text": [
      "100%|██████████| 1795/1795 [00:43<00:00, 41.13it/s]\n"
     ]
    },
    {
     "name": "stdout",
     "output_type": "stream",
     "text": [
      "epoch = 42 loss_train = 0.06810297382714015 loss_valid = 1.700070664220386 accuracy = 0.604346614655893\n"
     ]
    },
    {
     "name": "stderr",
     "output_type": "stream",
     "text": [
      "100%|██████████| 1795/1795 [00:41<00:00, 43.51it/s]\n"
     ]
    },
    {
     "name": "stdout",
     "output_type": "stream",
     "text": [
      "epoch = 43 loss_train = 0.07472146334779037 loss_valid = 1.614098754061593 accuracy = 0.6129841181387573\n"
     ]
    },
    {
     "name": "stderr",
     "output_type": "stream",
     "text": [
      "100%|██████████| 1795/1795 [00:41<00:00, 43.39it/s]\n"
     ]
    },
    {
     "name": "stdout",
     "output_type": "stream",
     "text": [
      "epoch = 44 loss_train = 0.07212027376971641 loss_valid = 1.7366551209158367 accuracy = 0.6227361382000557\n"
     ]
    },
    {
     "name": "stderr",
     "output_type": "stream",
     "text": [
      "100%|██████████| 1795/1795 [00:41<00:00, 43.56it/s]\n"
     ]
    },
    {
     "name": "stdout",
     "output_type": "stream",
     "text": [
      "epoch = 45 loss_train = 0.06826927652955445 loss_valid = 1.7002852952480316 accuracy = 0.6191139593201449\n"
     ]
    },
    {
     "name": "stderr",
     "output_type": "stream",
     "text": [
      "100%|██████████| 1795/1795 [00:43<00:00, 40.85it/s]\n"
     ]
    },
    {
     "name": "stdout",
     "output_type": "stream",
     "text": [
      "epoch = 46 loss_train = 0.06486592830861153 loss_valid = 1.6003041879998312 accuracy = 0.620228475898579\n"
     ]
    },
    {
     "name": "stderr",
     "output_type": "stream",
     "text": [
      "100%|██████████| 1795/1795 [00:41<00:00, 43.20it/s]\n"
     ]
    },
    {
     "name": "stdout",
     "output_type": "stream",
     "text": [
      "epoch = 47 loss_train = 0.06621087534838903 loss_valid = 1.692304348150889 accuracy = 0.620228475898579\n"
     ]
    },
    {
     "name": "stderr",
     "output_type": "stream",
     "text": [
      "100%|██████████| 1795/1795 [00:42<00:00, 42.71it/s]\n"
     ]
    },
    {
     "name": "stdout",
     "output_type": "stream",
     "text": [
      "epoch = 48 loss_train = 0.05846525687772345 loss_valid = 1.6834415035777621 accuracy = 0.6138200055725829\n"
     ]
    },
    {
     "name": "stderr",
     "output_type": "stream",
     "text": [
      "100%|██████████| 1795/1795 [00:42<00:00, 42.59it/s]\n"
     ]
    },
    {
     "name": "stdout",
     "output_type": "stream",
     "text": [
      "epoch = 49 loss_train = 0.05977776088407471 loss_valid = 1.6934270538224114 accuracy = 0.6227361382000557\n"
     ]
    },
    {
     "name": "stderr",
     "output_type": "stream",
     "text": [
      "100%|██████████| 1795/1795 [00:44<00:00, 40.02it/s]\n"
     ]
    },
    {
     "name": "stdout",
     "output_type": "stream",
     "text": [
      "epoch = 50 loss_train = 0.06274309354298553 loss_valid = 1.6696302378177643 accuracy = 0.6252438005015325\n"
     ]
    },
    {
     "name": "stderr",
     "output_type": "stream",
     "text": [
      "100%|██████████| 1795/1795 [00:42<00:00, 42.17it/s]\n"
     ]
    },
    {
     "name": "stdout",
     "output_type": "stream",
     "text": [
      "epoch = 51 loss_train = 0.05769839203231618 loss_valid = 1.7368112264739142 accuracy = 0.6252438005015325\n"
     ]
    },
    {
     "name": "stderr",
     "output_type": "stream",
     "text": [
      "100%|██████████| 1795/1795 [00:42<00:00, 42.22it/s]\n"
     ]
    },
    {
     "name": "stdout",
     "output_type": "stream",
     "text": [
      "epoch = 52 loss_train = 0.06132295620196413 loss_valid = 1.6609795130623712 accuracy = 0.6171635553078852\n"
     ]
    },
    {
     "name": "stderr",
     "output_type": "stream",
     "text": [
      "100%|██████████| 1795/1795 [00:43<00:00, 40.96it/s]\n"
     ]
    },
    {
     "name": "stdout",
     "output_type": "stream",
     "text": [
      "epoch = 53 loss_train = 0.05686875451326988 loss_valid = 1.6748446978463067 accuracy = 0.6263583170799666\n"
     ]
    },
    {
     "name": "stderr",
     "output_type": "stream",
     "text": [
      "100%|██████████| 1795/1795 [00:43<00:00, 41.12it/s]\n"
     ]
    },
    {
     "name": "stdout",
     "output_type": "stream",
     "text": [
      "epoch = 54 loss_train = 0.05892895540886644 loss_valid = 1.711902018851704 accuracy = 0.6157704095848425\n"
     ]
    },
    {
     "name": "stderr",
     "output_type": "stream",
     "text": [
      "100%|██████████| 1795/1795 [00:41<00:00, 43.77it/s]\n"
     ]
    },
    {
     "name": "stdout",
     "output_type": "stream",
     "text": [
      "epoch = 55 loss_train = 0.05209503620960244 loss_valid = 1.6037191879087025 accuracy = 0.6241292839230984\n"
     ]
    },
    {
     "name": "stderr",
     "output_type": "stream",
     "text": [
      "100%|██████████| 1795/1795 [00:41<00:00, 43.58it/s]\n"
     ]
    },
    {
     "name": "stdout",
     "output_type": "stream",
     "text": [
      "epoch = 56 loss_train = 0.052169698825194226 loss_valid = 1.7219754585954878 accuracy = 0.6260796879353581\n"
     ]
    },
    {
     "name": "stderr",
     "output_type": "stream",
     "text": [
      "100%|██████████| 1795/1795 [00:41<00:00, 43.56it/s]\n"
     ]
    },
    {
     "name": "stdout",
     "output_type": "stream",
     "text": [
      "epoch = 57 loss_train = 0.05559357990945941 loss_valid = 1.6638687860965728 accuracy = 0.6283087210922262\n"
     ]
    },
    {
     "name": "stderr",
     "output_type": "stream",
     "text": [
      "100%|██████████| 1795/1795 [00:43<00:00, 41.08it/s]\n"
     ]
    },
    {
     "name": "stdout",
     "output_type": "stream",
     "text": [
      "epoch = 58 loss_train = 0.05193857202882954 loss_valid = 1.7529995580514273 accuracy = 0.6344385622736138\n"
     ]
    },
    {
     "name": "stderr",
     "output_type": "stream",
     "text": [
      "100%|██████████| 1795/1795 [00:40<00:00, 43.85it/s]\n"
     ]
    },
    {
     "name": "stdout",
     "output_type": "stream",
     "text": [
      "epoch = 59 loss_train = 0.050661869592767486 loss_valid = 1.7630406753222148 accuracy = 0.6185567010309279\n"
     ]
    },
    {
     "name": "stderr",
     "output_type": "stream",
     "text": [
      "100%|██████████| 1795/1795 [00:40<00:00, 43.81it/s]\n"
     ]
    },
    {
     "name": "stdout",
     "output_type": "stream",
     "text": [
      "epoch = 60 loss_train = 0.04851337150652104 loss_valid = 1.7532739494244258 accuracy = 0.619671217609362\n"
     ]
    },
    {
     "name": "stderr",
     "output_type": "stream",
     "text": [
      "100%|██████████| 1795/1795 [00:41<00:00, 43.69it/s]\n"
     ]
    },
    {
     "name": "stdout",
     "output_type": "stream",
     "text": [
      "epoch = 61 loss_train = 0.052607379165253654 loss_valid = 1.6774792959955003 accuracy = 0.6193925884647534\n"
     ]
    },
    {
     "name": "stderr",
     "output_type": "stream",
     "text": [
      "100%|██████████| 1795/1795 [00:41<00:00, 43.39it/s]\n"
     ]
    },
    {
     "name": "stdout",
     "output_type": "stream",
     "text": [
      "epoch = 62 loss_train = 0.047570741674450974 loss_valid = 1.7671841793590122 accuracy = 0.6213429924770131\n"
     ]
    },
    {
     "name": "stderr",
     "output_type": "stream",
     "text": [
      "100%|██████████| 1795/1795 [00:41<00:00, 43.70it/s]\n"
     ]
    },
    {
     "name": "stdout",
     "output_type": "stream",
     "text": [
      "epoch = 63 loss_train = 0.04806821200671388 loss_valid = 1.7349848839971753 accuracy = 0.6283087210922262\n"
     ]
    },
    {
     "name": "stderr",
     "output_type": "stream",
     "text": [
      "100%|██████████| 1795/1795 [00:42<00:00, 42.48it/s]\n"
     ]
    },
    {
     "name": "stdout",
     "output_type": "stream",
     "text": [
      "epoch = 64 loss_train = 0.04527051810106758 loss_valid = 1.8532572450902727 accuracy = 0.6308163833937029\n"
     ]
    },
    {
     "name": "stderr",
     "output_type": "stream",
     "text": [
      "100%|██████████| 1795/1795 [00:41<00:00, 43.47it/s]\n"
     ]
    },
    {
     "name": "stdout",
     "output_type": "stream",
     "text": [
      "epoch = 65 loss_train = 0.04707497333168003 loss_valid = 1.7594765419430203 accuracy = 0.6227361382000557\n"
     ]
    },
    {
     "name": "stderr",
     "output_type": "stream",
     "text": [
      "100%|██████████| 1795/1795 [00:41<00:00, 43.44it/s]\n"
     ]
    },
    {
     "name": "stdout",
     "output_type": "stream",
     "text": [
      "epoch = 66 loss_train = 0.04637695128507691 loss_valid = 1.690612509449323 accuracy = 0.6168849261632767\n"
     ]
    },
    {
     "name": "stderr",
     "output_type": "stream",
     "text": [
      "100%|██████████| 1795/1795 [00:41<00:00, 43.14it/s]\n"
     ]
    },
    {
     "name": "stdout",
     "output_type": "stream",
     "text": [
      "epoch = 67 loss_train = 0.044752700420529104 loss_valid = 1.7648989911874136 accuracy = 0.616049038729451\n"
     ]
    },
    {
     "name": "stderr",
     "output_type": "stream",
     "text": [
      "100%|██████████| 1795/1795 [00:41<00:00, 43.71it/s]\n"
     ]
    },
    {
     "name": "stdout",
     "output_type": "stream",
     "text": [
      "epoch = 68 loss_train = 0.043905131691696464 loss_valid = 1.6978539571497175 accuracy = 0.6188353301755364\n"
     ]
    },
    {
     "name": "stderr",
     "output_type": "stream",
     "text": [
      "100%|██████████| 1795/1795 [00:42<00:00, 42.63it/s]\n"
     ]
    },
    {
     "name": "stdout",
     "output_type": "stream",
     "text": [
      "epoch = 69 loss_train = 0.04510581930852845 loss_valid = 1.8212115756670635 accuracy = 0.6099191975480636\n"
     ]
    },
    {
     "name": "stderr",
     "output_type": "stream",
     "text": [
      "100%|██████████| 1795/1795 [00:43<00:00, 41.17it/s]\n"
     ]
    },
    {
     "name": "stdout",
     "output_type": "stream",
     "text": [
      "epoch = 70 loss_train = 0.04095691737437895 loss_valid = 1.7292319487863117 accuracy = 0.6124268598495403\n"
     ]
    },
    {
     "name": "stderr",
     "output_type": "stream",
     "text": [
      "100%|██████████| 1795/1795 [00:42<00:00, 42.27it/s]\n"
     ]
    },
    {
     "name": "stdout",
     "output_type": "stream",
     "text": [
      "epoch = 71 loss_train = 0.04470597516088993 loss_valid = 1.7576517621676127 accuracy = 0.6274728336584007\n"
     ]
    },
    {
     "name": "stderr",
     "output_type": "stream",
     "text": [
      "100%|██████████| 1795/1795 [00:42<00:00, 42.01it/s]\n"
     ]
    },
    {
     "name": "stdout",
     "output_type": "stream",
     "text": [
      "epoch = 72 loss_train = 0.04205846839386926 loss_valid = 1.7544494544797473 accuracy = 0.6216216216216216\n"
     ]
    },
    {
     "name": "stderr",
     "output_type": "stream",
     "text": [
      "100%|██████████| 1795/1795 [00:42<00:00, 42.09it/s]\n"
     ]
    },
    {
     "name": "stdout",
     "output_type": "stream",
     "text": [
      "epoch = 73 loss_train = 0.037299931789962396 loss_valid = 1.759445128970676 accuracy = 0.6263583170799666\n"
     ]
    },
    {
     "name": "stderr",
     "output_type": "stream",
     "text": [
      "100%|██████████| 1795/1795 [00:42<00:00, 42.11it/s]\n"
     ]
    },
    {
     "name": "stdout",
     "output_type": "stream",
     "text": [
      "epoch = 74 loss_train = 0.04220184793773309 loss_valid = 1.7246351722876232 accuracy = 0.6205071050431875\n"
     ]
    },
    {
     "name": "stderr",
     "output_type": "stream",
     "text": [
      "100%|██████████| 1795/1795 [00:45<00:00, 39.62it/s]\n"
     ]
    },
    {
     "name": "stdout",
     "output_type": "stream",
     "text": [
      "epoch = 75 loss_train = 0.04016093877243873 loss_valid = 1.8061910600132411 accuracy = 0.6062970186681527\n"
     ]
    },
    {
     "name": "stderr",
     "output_type": "stream",
     "text": [
      "100%|██████████| 1795/1795 [00:44<00:00, 40.49it/s]\n"
     ]
    },
    {
     "name": "stdout",
     "output_type": "stream",
     "text": [
      "epoch = 76 loss_train = 0.03980544074641185 loss_valid = 1.742538573609458 accuracy = 0.6168849261632767\n"
     ]
    },
    {
     "name": "stderr",
     "output_type": "stream",
     "text": [
      "100%|██████████| 1795/1795 [00:41<00:00, 43.73it/s]\n"
     ]
    },
    {
     "name": "stdout",
     "output_type": "stream",
     "text": [
      "epoch = 77 loss_train = 0.03881036039102306 loss_valid = 1.8254671557744344 accuracy = 0.6051825020897186\n"
     ]
    },
    {
     "name": "stderr",
     "output_type": "stream",
     "text": [
      "100%|██████████| 1795/1795 [00:41<00:00, 43.66it/s]\n"
     ]
    },
    {
     "name": "stdout",
     "output_type": "stream",
     "text": [
      "epoch = 78 loss_train = 0.04351769280240515 loss_valid = 1.7972331411308713 accuracy = 0.6182780718863193\n"
     ]
    },
    {
     "name": "stderr",
     "output_type": "stream",
     "text": [
      "100%|██████████| 1795/1795 [00:42<00:00, 42.20it/s]\n"
     ]
    },
    {
     "name": "stdout",
     "output_type": "stream",
     "text": [
      "epoch = 79 loss_train = 0.03540157635427407 loss_valid = 1.8279230460855695 accuracy = 0.6101978266926721\n"
     ]
    },
    {
     "name": "stderr",
     "output_type": "stream",
     "text": [
      "100%|██████████| 1795/1795 [00:41<00:00, 43.59it/s]\n"
     ]
    },
    {
     "name": "stdout",
     "output_type": "stream",
     "text": [
      "epoch = 80 loss_train = 0.03639015057251476 loss_valid = 1.7761211558183034 accuracy = 0.6244079130677069\n"
     ]
    },
    {
     "name": "stderr",
     "output_type": "stream",
     "text": [
      "100%|██████████| 1795/1795 [00:41<00:00, 43.41it/s]\n"
     ]
    },
    {
     "name": "stdout",
     "output_type": "stream",
     "text": [
      "epoch = 81 loss_train = 0.03848289345011853 loss_valid = 1.8676211905479432 accuracy = 0.6308163833937029\n"
     ]
    },
    {
     "name": "stderr",
     "output_type": "stream",
     "text": [
      "100%|██████████| 1795/1795 [00:41<00:00, 43.38it/s]\n"
     ]
    },
    {
     "name": "stdout",
     "output_type": "stream",
     "text": [
      "epoch = 82 loss_train = 0.03908303584793225 loss_valid = 1.8415580172008938 accuracy = 0.6163276678740597\n"
     ]
    },
    {
     "name": "stderr",
     "output_type": "stream",
     "text": [
      "100%|██████████| 1795/1795 [00:44<00:00, 40.72it/s]\n"
     ]
    },
    {
     "name": "stdout",
     "output_type": "stream",
     "text": [
      "epoch = 83 loss_train = 0.03500522204054115 loss_valid = 1.8215779319405556 accuracy = 0.6260796879353581\n"
     ]
    },
    {
     "name": "stderr",
     "output_type": "stream",
     "text": [
      "100%|██████████| 1795/1795 [00:41<00:00, 43.34it/s]\n"
     ]
    },
    {
     "name": "stdout",
     "output_type": "stream",
     "text": [
      "epoch = 84 loss_train = 0.0336787582854228 loss_valid = 1.8073027037911944 accuracy = 0.6219002507662301\n"
     ]
    },
    {
     "name": "stderr",
     "output_type": "stream",
     "text": [
      "100%|██████████| 1795/1795 [00:41<00:00, 43.52it/s]\n"
     ]
    },
    {
     "name": "stdout",
     "output_type": "stream",
     "text": [
      "epoch = 85 loss_train = 0.035579919536509824 loss_valid = 1.8126417489846547 accuracy = 0.6205071050431875\n"
     ]
    },
    {
     "name": "stderr",
     "output_type": "stream",
     "text": [
      "100%|██████████| 1795/1795 [00:41<00:00, 43.34it/s]\n"
     ]
    },
    {
     "name": "stdout",
     "output_type": "stream",
     "text": [
      "epoch = 86 loss_train = 0.03388584024581895 loss_valid = 1.8203141232993867 accuracy = 0.6238506547784898\n"
     ]
    },
    {
     "name": "stderr",
     "output_type": "stream",
     "text": [
      "100%|██████████| 1795/1795 [00:44<00:00, 39.93it/s]\n"
     ]
    },
    {
     "name": "stdout",
     "output_type": "stream",
     "text": [
      "epoch = 87 loss_train = 0.03834648363993952 loss_valid = 1.840216215517786 accuracy = 0.6146558930064084\n"
     ]
    },
    {
     "name": "stderr",
     "output_type": "stream",
     "text": [
      "100%|██████████| 1795/1795 [00:41<00:00, 43.39it/s]\n"
     ]
    },
    {
     "name": "stdout",
     "output_type": "stream",
     "text": [
      "epoch = 88 loss_train = 0.03176938930658843 loss_valid = 1.81949464029736 accuracy = 0.6232933964892727\n"
     ]
    },
    {
     "name": "stderr",
     "output_type": "stream",
     "text": [
      "100%|██████████| 1795/1795 [00:41<00:00, 42.90it/s]\n"
     ]
    },
    {
     "name": "stdout",
     "output_type": "stream",
     "text": [
      "epoch = 89 loss_train = 0.03495549485967806 loss_valid = 1.8754061082998912 accuracy = 0.6185567010309279\n"
     ]
    },
    {
     "name": "stderr",
     "output_type": "stream",
     "text": [
      "100%|██████████| 1795/1795 [00:41<00:00, 43.14it/s]\n"
     ]
    },
    {
     "name": "stdout",
     "output_type": "stream",
     "text": [
      "epoch = 90 loss_train = 0.032168131811107496 loss_valid = 1.8171595317787594 accuracy = 0.6163276678740597\n"
     ]
    },
    {
     "name": "stderr",
     "output_type": "stream",
     "text": [
      "100%|██████████| 1795/1795 [00:45<00:00, 39.74it/s]\n"
     ]
    },
    {
     "name": "stdout",
     "output_type": "stream",
     "text": [
      "epoch = 91 loss_train = 0.03449825769655788 loss_valid = 1.9480859206782446 accuracy = 0.6166062970186682\n"
     ]
    },
    {
     "name": "stderr",
     "output_type": "stream",
     "text": [
      "100%|██████████| 1795/1795 [00:42<00:00, 42.11it/s]\n"
     ]
    },
    {
     "name": "stdout",
     "output_type": "stream",
     "text": [
      "epoch = 92 loss_train = 0.034120716304764084 loss_valid = 1.7976158147388035 accuracy = 0.624965171356924\n"
     ]
    },
    {
     "name": "stderr",
     "output_type": "stream",
     "text": [
      "100%|██████████| 1795/1795 [00:43<00:00, 40.96it/s]\n"
     ]
    },
    {
     "name": "stdout",
     "output_type": "stream",
     "text": [
      "epoch = 93 loss_train = 0.029240807021173914 loss_valid = 1.8692926949924893 accuracy = 0.615491780440234\n"
     ]
    },
    {
     "name": "stderr",
     "output_type": "stream",
     "text": [
      "100%|██████████| 1795/1795 [00:42<00:00, 41.93it/s]\n"
     ]
    },
    {
     "name": "stdout",
     "output_type": "stream",
     "text": [
      "epoch = 94 loss_train = 0.03360873171607289 loss_valid = 1.8816853103041649 accuracy = 0.6168849261632767\n"
     ]
    },
    {
     "name": "stderr",
     "output_type": "stream",
     "text": [
      "100%|██████████| 1795/1795 [00:45<00:00, 39.41it/s]\n"
     ]
    },
    {
     "name": "stdout",
     "output_type": "stream",
     "text": [
      "epoch = 95 loss_train = 0.032871631190406474 loss_valid = 1.8584252764119042 accuracy = 0.6235720256338813\n"
     ]
    },
    {
     "name": "stderr",
     "output_type": "stream",
     "text": [
      "100%|██████████| 1795/1795 [00:42<00:00, 41.76it/s]\n"
     ]
    },
    {
     "name": "stdout",
     "output_type": "stream",
     "text": [
      "epoch = 96 loss_train = 0.03441593359887806 loss_valid = 1.8716743681165906 accuracy = 0.6177208135971023\n"
     ]
    },
    {
     "name": "stderr",
     "output_type": "stream",
     "text": [
      "100%|██████████| 1795/1795 [00:43<00:00, 41.59it/s]\n"
     ]
    },
    {
     "name": "stdout",
     "output_type": "stream",
     "text": [
      "epoch = 97 loss_train = 0.030538277382306394 loss_valid = 1.8991814312338828 accuracy = 0.6171635553078852\n"
     ]
    },
    {
     "name": "stderr",
     "output_type": "stream",
     "text": [
      "100%|██████████| 1795/1795 [00:42<00:00, 42.57it/s]\n"
     ]
    },
    {
     "name": "stdout",
     "output_type": "stream",
     "text": [
      "epoch = 98 loss_train = 0.030388889706892696 loss_valid = 1.9173202035162185 accuracy = 0.6127054889941488\n"
     ]
    },
    {
     "name": "stderr",
     "output_type": "stream",
     "text": [
      "100%|██████████| 1795/1795 [00:42<00:00, 41.94it/s]\n"
     ]
    },
    {
     "name": "stdout",
     "output_type": "stream",
     "text": [
      "epoch = 99 loss_train = 0.031140005727013843 loss_valid = 1.8982496928506427 accuracy = 0.620785734187796\n"
     ]
    },
    {
     "name": "stderr",
     "output_type": "stream",
     "text": [
      "100%|██████████| 1795/1795 [00:41<00:00, 43.47it/s]\n"
     ]
    },
    {
     "name": "stdout",
     "output_type": "stream",
     "text": [
      "epoch = 100 loss_train = 0.029489218140814472 loss_valid = 1.770600374341011 accuracy = 0.619671217609362\n"
     ]
    },
    {
     "name": "stderr",
     "output_type": "stream",
     "text": [
      "100%|██████████| 1795/1795 [00:40<00:00, 43.82it/s]\n"
     ]
    },
    {
     "name": "stdout",
     "output_type": "stream",
     "text": [
      "epoch = 101 loss_train = 0.0316956589103989 loss_valid = 1.8917067227098676 accuracy = 0.6288659793814433\n"
     ]
    },
    {
     "name": "stderr",
     "output_type": "stream",
     "text": [
      "100%|██████████| 1795/1795 [00:41<00:00, 43.55it/s]\n"
     ]
    },
    {
     "name": "stdout",
     "output_type": "stream",
     "text": [
      "epoch = 102 loss_train = 0.031240533632889433 loss_valid = 1.8494781315326692 accuracy = 0.6260796879353581\n"
     ]
    },
    {
     "name": "stderr",
     "output_type": "stream",
     "text": [
      "100%|██████████| 1795/1795 [00:42<00:00, 42.35it/s]\n"
     ]
    },
    {
     "name": "stdout",
     "output_type": "stream",
     "text": [
      "epoch = 103 loss_train = 0.028887455701873562 loss_valid = 1.8260931214193503 accuracy = 0.6157704095848425\n"
     ]
    },
    {
     "name": "stderr",
     "output_type": "stream",
     "text": [
      "100%|██████████| 1795/1795 [00:42<00:00, 42.35it/s]\n"
     ]
    },
    {
     "name": "stdout",
     "output_type": "stream",
     "text": [
      "epoch = 104 loss_train = 0.02961761771453529 loss_valid = 1.7859138111273447 accuracy = 0.6179994427417108\n"
     ]
    },
    {
     "name": "stderr",
     "output_type": "stream",
     "text": [
      "100%|██████████| 1795/1795 [00:41<00:00, 43.40it/s]\n"
     ]
    },
    {
     "name": "stdout",
     "output_type": "stream",
     "text": [
      "epoch = 105 loss_train = 0.03325554671878751 loss_valid = 1.7986706389983496 accuracy = 0.6216216216216216\n"
     ]
    },
    {
     "name": "stderr",
     "output_type": "stream",
     "text": [
      "100%|██████████| 1795/1795 [00:41<00:00, 43.44it/s]\n"
     ]
    },
    {
     "name": "stdout",
     "output_type": "stream",
     "text": [
      "epoch = 106 loss_train = 0.02670283372659712 loss_valid = 1.967096434434255 accuracy = 0.6238506547784898\n"
     ]
    },
    {
     "name": "stderr",
     "output_type": "stream",
     "text": [
      "100%|██████████| 1795/1795 [00:41<00:00, 42.81it/s]\n"
     ]
    },
    {
     "name": "stdout",
     "output_type": "stream",
     "text": [
      "epoch = 107 loss_train = 0.024252635332446707 loss_valid = 1.9751834650834401 accuracy = 0.6124268598495403\n"
     ]
    },
    {
     "name": "stderr",
     "output_type": "stream",
     "text": [
      "100%|██████████| 1795/1795 [00:41<00:00, 43.55it/s]\n"
     ]
    },
    {
     "name": "stdout",
     "output_type": "stream",
     "text": [
      "epoch = 108 loss_train = 0.026923972774708992 loss_valid = 1.9441242472993003 accuracy = 0.6230147673446642\n"
     ]
    },
    {
     "name": "stderr",
     "output_type": "stream",
     "text": [
      "100%|██████████| 1795/1795 [00:42<00:00, 42.26it/s]\n"
     ]
    },
    {
     "name": "stdout",
     "output_type": "stream",
     "text": [
      "epoch = 109 loss_train = 0.028523500081261005 loss_valid = 1.9375356143050724 accuracy = 0.619671217609362\n"
     ]
    },
    {
     "name": "stderr",
     "output_type": "stream",
     "text": [
      "100%|██████████| 1795/1795 [00:41<00:00, 43.34it/s]\n"
     ]
    },
    {
     "name": "stdout",
     "output_type": "stream",
     "text": [
      "epoch = 110 loss_train = 0.029661666463280174 loss_valid = 1.8923240088091957 accuracy = 0.6274728336584007\n"
     ]
    },
    {
     "name": "stderr",
     "output_type": "stream",
     "text": [
      "100%|██████████| 1795/1795 [00:41<00:00, 43.01it/s]\n"
     ]
    },
    {
     "name": "stdout",
     "output_type": "stream",
     "text": [
      "epoch = 111 loss_train = 0.03137256824488468 loss_valid = 1.8392426983515422 accuracy = 0.6263583170799666\n"
     ]
    },
    {
     "name": "stderr",
     "output_type": "stream",
     "text": [
      "100%|██████████| 1795/1795 [00:42<00:00, 42.67it/s]\n"
     ]
    },
    {
     "name": "stdout",
     "output_type": "stream",
     "text": [
      "epoch = 112 loss_train = 0.028560131439705014 loss_valid = 1.8022495960526996 accuracy = 0.6188353301755364\n"
     ]
    },
    {
     "name": "stderr",
     "output_type": "stream",
     "text": [
      "100%|██████████| 1795/1795 [00:42<00:00, 42.50it/s]\n"
     ]
    },
    {
     "name": "stdout",
     "output_type": "stream",
     "text": [
      "epoch = 113 loss_train = 0.02571838410239807 loss_valid = 1.9142554169230992 accuracy = 0.6216216216216216\n"
     ]
    },
    {
     "name": "stderr",
     "output_type": "stream",
     "text": [
      "100%|██████████| 1795/1795 [00:43<00:00, 41.41it/s]\n"
     ]
    },
    {
     "name": "stdout",
     "output_type": "stream",
     "text": [
      "epoch = 114 loss_train = 0.026097366426629402 loss_valid = 1.9597434204154545 accuracy = 0.6135413764279743\n"
     ]
    },
    {
     "name": "stderr",
     "output_type": "stream",
     "text": [
      "100%|██████████| 1795/1795 [00:43<00:00, 41.02it/s]\n"
     ]
    },
    {
     "name": "stdout",
     "output_type": "stream",
     "text": [
      "epoch = 115 loss_train = 0.02851527597243485 loss_valid = 1.845484141839875 accuracy = 0.6221788799108386\n"
     ]
    },
    {
     "name": "stderr",
     "output_type": "stream",
     "text": [
      "100%|██████████| 1795/1795 [00:42<00:00, 41.75it/s]\n"
     ]
    },
    {
     "name": "stdout",
     "output_type": "stream",
     "text": [
      "epoch = 116 loss_train = 0.028699261098120796 loss_valid = 1.892273853884803 accuracy = 0.6241292839230984\n"
     ]
    },
    {
     "name": "stderr",
     "output_type": "stream",
     "text": [
      "100%|██████████| 1795/1795 [00:43<00:00, 41.59it/s]\n"
     ]
    },
    {
     "name": "stdout",
     "output_type": "stream",
     "text": [
      "epoch = 117 loss_train = 0.02558468279918762 loss_valid = 1.952811525132921 accuracy = 0.6230147673446642\n"
     ]
    },
    {
     "name": "stderr",
     "output_type": "stream",
     "text": [
      "100%|██████████| 1795/1795 [00:45<00:00, 39.40it/s]\n"
     ]
    },
    {
     "name": "stdout",
     "output_type": "stream",
     "text": [
      "epoch = 118 loss_train = 0.0258370800679021 loss_valid = 1.8329828849103715 accuracy = 0.6129841181387573\n"
     ]
    },
    {
     "name": "stderr",
     "output_type": "stream",
     "text": [
      "100%|██████████| 1795/1795 [00:41<00:00, 43.34it/s]\n"
     ]
    },
    {
     "name": "stdout",
     "output_type": "stream",
     "text": [
      "epoch = 119 loss_train = 0.024938630056701255 loss_valid = 1.9485115140014224 accuracy = 0.619671217609362\n"
     ]
    },
    {
     "name": "stderr",
     "output_type": "stream",
     "text": [
      "100%|██████████| 1795/1795 [00:42<00:00, 42.34it/s]\n"
     ]
    },
    {
     "name": "stdout",
     "output_type": "stream",
     "text": [
      "epoch = 120 loss_train = 0.028842050878089154 loss_valid = 1.8452435297436185 accuracy = 0.6330454165505712\n"
     ]
    },
    {
     "name": "stderr",
     "output_type": "stream",
     "text": [
      "100%|██████████| 1795/1795 [00:41<00:00, 43.47it/s]\n"
     ]
    },
    {
     "name": "stdout",
     "output_type": "stream",
     "text": [
      "epoch = 121 loss_train = 0.029305675911744194 loss_valid = 1.8764629141489664 accuracy = 0.6310950125383115\n"
     ]
    },
    {
     "name": "stderr",
     "output_type": "stream",
     "text": [
      "100%|██████████| 1795/1795 [00:43<00:00, 40.85it/s]\n"
     ]
    },
    {
     "name": "stdout",
     "output_type": "stream",
     "text": [
      "epoch = 122 loss_train = 0.027303206538058386 loss_valid = 1.9253138167328305 accuracy = 0.6129841181387573\n"
     ]
    },
    {
     "name": "stderr",
     "output_type": "stream",
     "text": [
      "100%|██████████| 1795/1795 [00:41<00:00, 43.31it/s]\n"
     ]
    },
    {
     "name": "stdout",
     "output_type": "stream",
     "text": [
      "epoch = 123 loss_train = 0.026831958384633623 loss_valid = 1.8606703539689382 accuracy = 0.6068542769573697\n"
     ]
    },
    {
     "name": "stderr",
     "output_type": "stream",
     "text": [
      "100%|██████████| 1795/1795 [00:41<00:00, 43.43it/s]\n"
     ]
    },
    {
     "name": "stdout",
     "output_type": "stream",
     "text": [
      "epoch = 124 loss_train = 0.02452676068438288 loss_valid = 2.057591056757503 accuracy = 0.6185567010309279\n"
     ]
    },
    {
     "name": "stderr",
     "output_type": "stream",
     "text": [
      "100%|██████████| 1795/1795 [00:42<00:00, 42.16it/s]\n"
     ]
    },
    {
     "name": "stdout",
     "output_type": "stream",
     "text": [
      "epoch = 125 loss_train = 0.024567169360531115 loss_valid = 1.8903741045792897 accuracy = 0.6163276678740597\n"
     ]
    },
    {
     "name": "stderr",
     "output_type": "stream",
     "text": [
      "100%|██████████| 1795/1795 [00:43<00:00, 40.80it/s]\n"
     ]
    },
    {
     "name": "stdout",
     "output_type": "stream",
     "text": [
      "epoch = 126 loss_train = 0.025999278351313514 loss_valid = 1.856667551861869 accuracy = 0.6191139593201449\n"
     ]
    },
    {
     "name": "stderr",
     "output_type": "stream",
     "text": [
      "100%|██████████| 1795/1795 [00:41<00:00, 43.26it/s]\n"
     ]
    },
    {
     "name": "stdout",
     "output_type": "stream",
     "text": [
      "epoch = 127 loss_train = 0.026342328566384 loss_valid = 1.9761207183202107 accuracy = 0.619671217609362\n"
     ]
    },
    {
     "name": "stderr",
     "output_type": "stream",
     "text": [
      "100%|██████████| 1795/1795 [00:41<00:00, 43.55it/s]\n"
     ]
    },
    {
     "name": "stdout",
     "output_type": "stream",
     "text": [
      "epoch = 128 loss_train = 0.02493663315482413 loss_valid = 1.7803984560569128 accuracy = 0.6168849261632767\n"
     ]
    },
    {
     "name": "stderr",
     "output_type": "stream",
     "text": [
      "100%|██████████| 1795/1795 [00:41<00:00, 43.31it/s]\n"
     ]
    },
    {
     "name": "stdout",
     "output_type": "stream",
     "text": [
      "epoch = 129 loss_train = 0.02603151057033315 loss_valid = 1.829064021375444 accuracy = 0.6191139593201449\n"
     ]
    },
    {
     "name": "stderr",
     "output_type": "stream",
     "text": [
      "100%|██████████| 1795/1795 [00:44<00:00, 40.65it/s]\n"
     ]
    },
    {
     "name": "stdout",
     "output_type": "stream",
     "text": [
      "epoch = 130 loss_train = 0.023068449125973143 loss_valid = 1.9923774911297691 accuracy = 0.619671217609362\n"
     ]
    },
    {
     "name": "stderr",
     "output_type": "stream",
     "text": [
      "100%|██████████| 1795/1795 [00:43<00:00, 41.72it/s]\n"
     ]
    },
    {
     "name": "stdout",
     "output_type": "stream",
     "text": [
      "epoch = 131 loss_train = 0.023188759982503217 loss_valid = 1.9458186785380045 accuracy = 0.6221788799108386\n"
     ]
    },
    {
     "name": "stderr",
     "output_type": "stream",
     "text": [
      "100%|██████████| 1795/1795 [00:42<00:00, 42.55it/s]\n"
     ]
    },
    {
     "name": "stdout",
     "output_type": "stream",
     "text": [
      "epoch = 132 loss_train = 0.023565041764892578 loss_valid = 1.9203732057412466 accuracy = 0.6185567010309279\n"
     ]
    },
    {
     "name": "stderr",
     "output_type": "stream",
     "text": [
      "100%|██████████| 1795/1795 [00:42<00:00, 42.32it/s]\n"
     ]
    },
    {
     "name": "stdout",
     "output_type": "stream",
     "text": [
      "epoch = 133 loss_train = 0.023687496760631956 loss_valid = 1.9955784429444208 accuracy = 0.6138200055725829\n"
     ]
    },
    {
     "name": "stderr",
     "output_type": "stream",
     "text": [
      "100%|██████████| 1795/1795 [00:45<00:00, 39.82it/s]\n"
     ]
    },
    {
     "name": "stdout",
     "output_type": "stream",
     "text": [
      "epoch = 134 loss_train = 0.02197119808176738 loss_valid = 1.9301451304223802 accuracy = 0.6241292839230984\n"
     ]
    },
    {
     "name": "stderr",
     "output_type": "stream",
     "text": [
      "100%|██████████| 1795/1795 [00:42<00:00, 41.94it/s]\n"
     ]
    },
    {
     "name": "stdout",
     "output_type": "stream",
     "text": [
      "epoch = 135 loss_train = 0.02396527979241674 loss_valid = 1.9525215686029858 accuracy = 0.6179994427417108\n"
     ]
    },
    {
     "name": "stderr",
     "output_type": "stream",
     "text": [
      "100%|██████████| 1795/1795 [00:43<00:00, 41.00it/s]\n"
     ]
    },
    {
     "name": "stdout",
     "output_type": "stream",
     "text": [
      "epoch = 136 loss_train = 0.021284498523599822 loss_valid = 2.018466426001655 accuracy = 0.6157704095848425\n"
     ]
    },
    {
     "name": "stderr",
     "output_type": "stream",
     "text": [
      "100%|██████████| 1795/1795 [00:42<00:00, 41.89it/s]\n"
     ]
    },
    {
     "name": "stdout",
     "output_type": "stream",
     "text": [
      "epoch = 137 loss_train = 0.022901292032480966 loss_valid = 1.8399184974034628 accuracy = 0.6246865422123155\n"
     ]
    },
    {
     "name": "stderr",
     "output_type": "stream",
     "text": [
      "100%|██████████| 1795/1795 [00:46<00:00, 38.94it/s]\n"
     ]
    },
    {
     "name": "stdout",
     "output_type": "stream",
     "text": [
      "epoch = 138 loss_train = 0.022352305456810235 loss_valid = 1.952802922990587 accuracy = 0.6266369462245751\n"
     ]
    },
    {
     "name": "stderr",
     "output_type": "stream",
     "text": [
      "100%|██████████| 1795/1795 [00:41<00:00, 43.07it/s]\n"
     ]
    },
    {
     "name": "stdout",
     "output_type": "stream",
     "text": [
      "epoch = 139 loss_train = 0.025124528582525164 loss_valid = 1.9419122181998358 accuracy = 0.6341599331290053\n"
     ]
    },
    {
     "name": "stderr",
     "output_type": "stream",
     "text": [
      "100%|██████████| 1795/1795 [00:41<00:00, 43.24it/s]\n"
     ]
    },
    {
     "name": "stdout",
     "output_type": "stream",
     "text": [
      "epoch = 140 loss_train = 0.022933618518037296 loss_valid = 1.862187785440021 accuracy = 0.6341599331290053\n"
     ]
    },
    {
     "name": "stderr",
     "output_type": "stream",
     "text": [
      "100%|██████████| 1795/1795 [00:42<00:00, 42.50it/s]\n"
     ]
    },
    {
     "name": "stdout",
     "output_type": "stream",
     "text": [
      "epoch = 141 loss_train = 0.023223416915334128 loss_valid = 1.893609053823683 accuracy = 0.6294232376706603\n"
     ]
    },
    {
     "name": "stderr",
     "output_type": "stream",
     "text": [
      "100%|██████████| 1795/1795 [00:41<00:00, 43.12it/s]\n"
     ]
    },
    {
     "name": "stdout",
     "output_type": "stream",
     "text": [
      "epoch = 142 loss_train = 0.024564050190259937 loss_valid = 1.8700077104568482 accuracy = 0.6179994427417108\n"
     ]
    },
    {
     "name": "stderr",
     "output_type": "stream",
     "text": [
      "100%|██████████| 1795/1795 [00:41<00:00, 43.23it/s]\n"
     ]
    },
    {
     "name": "stdout",
     "output_type": "stream",
     "text": [
      "epoch = 143 loss_train = 0.021008594615184208 loss_valid = 1.9334102042516073 accuracy = 0.6299804959598774\n"
     ]
    },
    {
     "name": "stderr",
     "output_type": "stream",
     "text": [
      "100%|██████████| 1795/1795 [00:41<00:00, 42.98it/s]\n"
     ]
    },
    {
     "name": "stdout",
     "output_type": "stream",
     "text": [
      "epoch = 144 loss_train = 0.021616817569450286 loss_valid = 1.9399031541082594 accuracy = 0.6219002507662301\n"
     ]
    },
    {
     "name": "stderr",
     "output_type": "stream",
     "text": [
      "100%|██████████| 1795/1795 [00:44<00:00, 40.78it/s]\n"
     ]
    },
    {
     "name": "stdout",
     "output_type": "stream",
     "text": [
      "epoch = 145 loss_train = 0.020207098663642613 loss_valid = 2.011469439400567 accuracy = 0.6230147673446642\n"
     ]
    },
    {
     "name": "stderr",
     "output_type": "stream",
     "text": [
      "100%|██████████| 1795/1795 [00:41<00:00, 43.05it/s]\n"
     ]
    },
    {
     "name": "stdout",
     "output_type": "stream",
     "text": [
      "epoch = 146 loss_train = 0.02563068622735463 loss_valid = 1.9545660054683685 accuracy = 0.6191139593201449\n"
     ]
    },
    {
     "name": "stderr",
     "output_type": "stream",
     "text": [
      "100%|██████████| 1795/1795 [00:42<00:00, 42.03it/s]\n"
     ]
    },
    {
     "name": "stdout",
     "output_type": "stream",
     "text": [
      "epoch = 147 loss_train = 0.01972177070653279 loss_valid = 1.9974199276500277 accuracy = 0.63137364168292\n"
     ]
    },
    {
     "name": "stderr",
     "output_type": "stream",
     "text": [
      "100%|██████████| 1795/1795 [00:41<00:00, 43.43it/s]\n"
     ]
    },
    {
     "name": "stdout",
     "output_type": "stream",
     "text": [
      "epoch = 148 loss_train = 0.021120853379722162 loss_valid = 1.8646706161896387 accuracy = 0.6227361382000557\n"
     ]
    },
    {
     "name": "stderr",
     "output_type": "stream",
     "text": [
      "100%|██████████| 1795/1795 [00:44<00:00, 40.54it/s]\n"
     ]
    },
    {
     "name": "stdout",
     "output_type": "stream",
     "text": [
      "epoch = 149 loss_train = 0.019099399638454244 loss_valid = 2.0558030654324426 accuracy = 0.619671217609362\n"
     ]
    },
    {
     "name": "stderr",
     "output_type": "stream",
     "text": [
      "100%|██████████| 1795/1795 [00:41<00:00, 43.39it/s]\n"
     ]
    },
    {
     "name": "stdout",
     "output_type": "stream",
     "text": [
      "epoch = 150 loss_train = 0.020083319918364564 loss_valid = 1.8803829250070785 accuracy = 0.6280300919476177\n"
     ]
    },
    {
     "name": "stderr",
     "output_type": "stream",
     "text": [
      "100%|██████████| 1795/1795 [00:41<00:00, 43.28it/s]\n"
     ]
    },
    {
     "name": "stdout",
     "output_type": "stream",
     "text": [
      "epoch = 151 loss_train = 0.020349905691677894 loss_valid = 1.9465610342555575 accuracy = 0.6171635553078852\n"
     ]
    },
    {
     "name": "stderr",
     "output_type": "stream",
     "text": [
      "100%|██████████| 1795/1795 [00:42<00:00, 41.91it/s]\n"
     ]
    },
    {
     "name": "stdout",
     "output_type": "stream",
     "text": [
      "epoch = 152 loss_train = 0.020501752233250757 loss_valid = 1.9757728474007712 accuracy = 0.6216216216216216\n"
     ]
    },
    {
     "name": "stderr",
     "output_type": "stream",
     "text": [
      "100%|██████████| 1795/1795 [00:44<00:00, 40.05it/s]\n"
     ]
    },
    {
     "name": "stdout",
     "output_type": "stream",
     "text": [
      "epoch = 153 loss_train = 0.022182936479862355 loss_valid = 1.88472477806939 accuracy = 0.6230147673446642\n"
     ]
    },
    {
     "name": "stderr",
     "output_type": "stream",
     "text": [
      "100%|██████████| 1795/1795 [00:42<00:00, 42.25it/s]\n"
     ]
    },
    {
     "name": "stdout",
     "output_type": "stream",
     "text": [
      "epoch = 154 loss_train = 0.018369630382627004 loss_valid = 1.9162322958310445 accuracy = 0.6241292839230984\n"
     ]
    },
    {
     "name": "stderr",
     "output_type": "stream",
     "text": [
      "100%|██████████| 1795/1795 [00:42<00:00, 42.36it/s]\n"
     ]
    },
    {
     "name": "stdout",
     "output_type": "stream",
     "text": [
      "epoch = 155 loss_train = 0.02118308863861473 loss_valid = 1.9762436454825931 accuracy = 0.6191139593201449\n"
     ]
    },
    {
     "name": "stderr",
     "output_type": "stream",
     "text": [
      "100%|██████████| 1795/1795 [00:42<00:00, 42.08it/s]\n"
     ]
    },
    {
     "name": "stdout",
     "output_type": "stream",
     "text": [
      "epoch = 156 loss_train = 0.02074606337033974 loss_valid = 1.9583137257893881 accuracy = 0.6205071050431875\n"
     ]
    },
    {
     "name": "stderr",
     "output_type": "stream",
     "text": [
      "100%|██████████| 1795/1795 [00:45<00:00, 39.81it/s]\n"
     ]
    },
    {
     "name": "stdout",
     "output_type": "stream",
     "text": [
      "epoch = 157 loss_train = 0.021623803586448564 loss_valid = 2.1456580864720873 accuracy = 0.616049038729451\n"
     ]
    },
    {
     "name": "stderr",
     "output_type": "stream",
     "text": [
      "100%|██████████| 1795/1795 [00:42<00:00, 41.81it/s]\n"
     ]
    },
    {
     "name": "stdout",
     "output_type": "stream",
     "text": [
      "epoch = 158 loss_train = 0.020528941290107884 loss_valid = 1.9592364123132493 accuracy = 0.6185567010309279\n"
     ]
    },
    {
     "name": "stderr",
     "output_type": "stream",
     "text": [
      "100%|██████████| 1795/1795 [00:41<00:00, 43.36it/s]\n"
     ]
    },
    {
     "name": "stdout",
     "output_type": "stream",
     "text": [
      "epoch = 159 loss_train = 0.019745066109264426 loss_valid = 1.9292402903238932 accuracy = 0.6227361382000557\n"
     ]
    },
    {
     "name": "stderr",
     "output_type": "stream",
     "text": [
      "100%|██████████| 1795/1795 [00:41<00:00, 43.37it/s]\n"
     ]
    },
    {
     "name": "stdout",
     "output_type": "stream",
     "text": [
      "epoch = 160 loss_train = 0.01969384313653441 loss_valid = 1.8852031555440691 accuracy = 0.6179994427417108\n"
     ]
    },
    {
     "name": "stderr",
     "output_type": "stream",
     "text": [
      "100%|██████████| 1795/1795 [00:41<00:00, 43.38it/s]\n"
     ]
    },
    {
     "name": "stdout",
     "output_type": "stream",
     "text": [
      "epoch = 161 loss_train = 0.01983324643960991 loss_valid = 1.8744781846139167 accuracy = 0.6171635553078852\n"
     ]
    },
    {
     "name": "stderr",
     "output_type": "stream",
     "text": [
      "100%|██████████| 1795/1795 [00:41<00:00, 43.57it/s]\n"
     ]
    },
    {
     "name": "stdout",
     "output_type": "stream",
     "text": [
      "epoch = 162 loss_train = 0.01985843119597668 loss_valid = 1.962609688507186 accuracy = 0.6258010587907495\n"
     ]
    },
    {
     "name": "stderr",
     "output_type": "stream",
     "text": [
      "100%|██████████| 1795/1795 [00:41<00:00, 43.22it/s]\n"
     ]
    },
    {
     "name": "stdout",
     "output_type": "stream",
     "text": [
      "epoch = 163 loss_train = 0.018978805584286784 loss_valid = 1.9624280293782552 accuracy = 0.6191139593201449\n"
     ]
    },
    {
     "name": "stderr",
     "output_type": "stream",
     "text": [
      "100%|██████████| 1795/1795 [00:42<00:00, 42.28it/s]\n"
     ]
    },
    {
     "name": "stdout",
     "output_type": "stream",
     "text": [
      "epoch = 164 loss_train = 0.0193181161970698 loss_valid = 1.9154913560549418 accuracy = 0.6260796879353581\n"
     ]
    },
    {
     "name": "stderr",
     "output_type": "stream",
     "text": [
      "100%|██████████| 1795/1795 [00:41<00:00, 43.24it/s]\n"
     ]
    },
    {
     "name": "stdout",
     "output_type": "stream",
     "text": [
      "epoch = 165 loss_train = 0.020477606054781487 loss_valid = 1.8878335212336645 accuracy = 0.6082474226804123\n"
     ]
    },
    {
     "name": "stderr",
     "output_type": "stream",
     "text": [
      "100%|██████████| 1795/1795 [00:41<00:00, 43.32it/s]\n"
     ]
    },
    {
     "name": "stdout",
     "output_type": "stream",
     "text": [
      "epoch = 166 loss_train = 0.020654313840216605 loss_valid = 1.9187146271599664 accuracy = 0.6224575090554472\n"
     ]
    },
    {
     "name": "stderr",
     "output_type": "stream",
     "text": [
      "100%|██████████| 1795/1795 [00:42<00:00, 42.33it/s]\n"
     ]
    },
    {
     "name": "stdout",
     "output_type": "stream",
     "text": [
      "epoch = 167 loss_train = 0.02173121571112382 loss_valid = 1.950266998608907 accuracy = 0.6135413764279743\n"
     ]
    },
    {
     "name": "stderr",
     "output_type": "stream",
     "text": [
      "100%|██████████| 1795/1795 [00:41<00:00, 43.29it/s]\n"
     ]
    },
    {
     "name": "stdout",
     "output_type": "stream",
     "text": [
      "epoch = 168 loss_train = 0.020541107363508906 loss_valid = 2.0243851493464575 accuracy = 0.624965171356924\n"
     ]
    },
    {
     "name": "stderr",
     "output_type": "stream",
     "text": [
      "100%|██████████| 1795/1795 [00:42<00:00, 42.15it/s]\n"
     ]
    },
    {
     "name": "stdout",
     "output_type": "stream",
     "text": [
      "epoch = 169 loss_train = 0.02545741303020047 loss_valid = 1.9333559075991313 accuracy = 0.6269155753691836\n"
     ]
    },
    {
     "name": "stderr",
     "output_type": "stream",
     "text": [
      "100%|██████████| 1795/1795 [00:41<00:00, 43.42it/s]\n"
     ]
    },
    {
     "name": "stdout",
     "output_type": "stream",
     "text": [
      "epoch = 170 loss_train = 0.020575648335924443 loss_valid = 2.0324714559978907 accuracy = 0.620785734187796\n"
     ]
    },
    {
     "name": "stderr",
     "output_type": "stream",
     "text": [
      "100%|██████████| 1795/1795 [00:41<00:00, 43.27it/s]\n"
     ]
    },
    {
     "name": "stdout",
     "output_type": "stream",
     "text": [
      "epoch = 171 loss_train = 0.018539156665691354 loss_valid = 1.9928217981921301 accuracy = 0.624965171356924\n"
     ]
    },
    {
     "name": "stderr",
     "output_type": "stream",
     "text": [
      "100%|██████████| 1795/1795 [00:41<00:00, 43.24it/s]\n"
     ]
    },
    {
     "name": "stdout",
     "output_type": "stream",
     "text": [
      "epoch = 172 loss_train = 0.017187404843431286 loss_valid = 1.9236828645732669 accuracy = 0.6205071050431875\n"
     ]
    },
    {
     "name": "stderr",
     "output_type": "stream",
     "text": [
      "100%|██████████| 1795/1795 [00:41<00:00, 43.31it/s]\n"
     ]
    },
    {
     "name": "stdout",
     "output_type": "stream",
     "text": [
      "epoch = 173 loss_train = 0.01854200346109929 loss_valid = 1.9848912856313918 accuracy = 0.6177208135971023\n"
     ]
    },
    {
     "name": "stderr",
     "output_type": "stream",
     "text": [
      "100%|██████████| 1795/1795 [00:43<00:00, 41.19it/s]\n"
     ]
    },
    {
     "name": "stdout",
     "output_type": "stream",
     "text": [
      "epoch = 174 loss_train = 0.01710773719383207 loss_valid = 2.025830828083886 accuracy = 0.6299804959598774\n"
     ]
    },
    {
     "name": "stderr",
     "output_type": "stream",
     "text": [
      "100%|██████████| 1795/1795 [00:42<00:00, 42.30it/s]\n"
     ]
    },
    {
     "name": "stdout",
     "output_type": "stream",
     "text": [
      "epoch = 175 loss_train = 0.019044252788932726 loss_valid = 2.016254422929552 accuracy = 0.6210643633324046\n"
     ]
    },
    {
     "name": "stderr",
     "output_type": "stream",
     "text": [
      "100%|██████████| 1795/1795 [00:43<00:00, 41.13it/s]\n"
     ]
    },
    {
     "name": "stdout",
     "output_type": "stream",
     "text": [
      "epoch = 176 loss_train = 0.017758804397646325 loss_valid = 2.128441188550658 accuracy = 0.615491780440234\n"
     ]
    },
    {
     "name": "stderr",
     "output_type": "stream",
     "text": [
      "100%|██████████| 1795/1795 [00:42<00:00, 42.19it/s]\n"
     ]
    },
    {
     "name": "stdout",
     "output_type": "stream",
     "text": [
      "epoch = 177 loss_train = 0.021903031435932946 loss_valid = 1.8912008939849005 accuracy = 0.6230147673446642\n"
     ]
    },
    {
     "name": "stderr",
     "output_type": "stream",
     "text": [
      "100%|██████████| 1795/1795 [00:42<00:00, 41.95it/s]\n"
     ]
    },
    {
     "name": "stdout",
     "output_type": "stream",
     "text": [
      "epoch = 178 loss_train = 0.018685276303316296 loss_valid = 1.997879249519772 accuracy = 0.6244079130677069\n"
     ]
    },
    {
     "name": "stderr",
     "output_type": "stream",
     "text": [
      "100%|██████████| 1795/1795 [00:44<00:00, 40.64it/s]\n"
     ]
    },
    {
     "name": "stdout",
     "output_type": "stream",
     "text": [
      "epoch = 179 loss_train = 0.017001813329426674 loss_valid = 2.0284223743279775 accuracy = 0.6143772638617999\n"
     ]
    },
    {
     "name": "stderr",
     "output_type": "stream",
     "text": [
      "100%|██████████| 1795/1795 [00:42<00:00, 41.98it/s]\n"
     ]
    },
    {
     "name": "stdout",
     "output_type": "stream",
     "text": [
      "epoch = 180 loss_train = 0.01747481262297639 loss_valid = 2.069526076250606 accuracy = 0.6143772638617999\n"
     ]
    },
    {
     "name": "stderr",
     "output_type": "stream",
     "text": [
      "100%|██████████| 1795/1795 [00:44<00:00, 40.58it/s]\n"
     ]
    },
    {
     "name": "stdout",
     "output_type": "stream",
     "text": [
      "epoch = 181 loss_train = 0.021021061248976066 loss_valid = 2.0609321109453838 accuracy = 0.6076901643911953\n"
     ]
    },
    {
     "name": "stderr",
     "output_type": "stream",
     "text": [
      "100%|██████████| 1795/1795 [00:41<00:00, 43.28it/s]\n"
     ]
    },
    {
     "name": "stdout",
     "output_type": "stream",
     "text": [
      "epoch = 182 loss_train = 0.01879196464549973 loss_valid = 1.940626837015152 accuracy = 0.6163276678740597\n"
     ]
    },
    {
     "name": "stderr",
     "output_type": "stream",
     "text": [
      "100%|██████████| 1795/1795 [00:42<00:00, 42.21it/s]\n"
     ]
    },
    {
     "name": "stdout",
     "output_type": "stream",
     "text": [
      "epoch = 183 loss_train = 0.017238411547080744 loss_valid = 1.9953345606062147 accuracy = 0.616049038729451\n"
     ]
    },
    {
     "name": "stderr",
     "output_type": "stream",
     "text": [
      "100%|██████████| 1795/1795 [00:41<00:00, 43.01it/s]\n"
     ]
    },
    {
     "name": "stdout",
     "output_type": "stream",
     "text": [
      "epoch = 184 loss_train = 0.016476632897167068 loss_valid = 2.0435227131843567 accuracy = 0.6082474226804123\n"
     ]
    },
    {
     "name": "stderr",
     "output_type": "stream",
     "text": [
      "100%|██████████| 1795/1795 [00:41<00:00, 43.18it/s]\n"
     ]
    },
    {
     "name": "stdout",
     "output_type": "stream",
     "text": [
      "epoch = 185 loss_train = 0.017387431225293782 loss_valid = 2.0400118384427492 accuracy = 0.615491780440234\n"
     ]
    },
    {
     "name": "stderr",
     "output_type": "stream",
     "text": [
      "100%|██████████| 1795/1795 [00:42<00:00, 42.03it/s]\n"
     ]
    },
    {
     "name": "stdout",
     "output_type": "stream",
     "text": [
      "epoch = 186 loss_train = 0.017676859360882927 loss_valid = 2.044523048798243 accuracy = 0.6152131512956255\n"
     ]
    },
    {
     "name": "stderr",
     "output_type": "stream",
     "text": [
      "100%|██████████| 1795/1795 [00:41<00:00, 43.24it/s]\n"
     ]
    },
    {
     "name": "stdout",
     "output_type": "stream",
     "text": [
      "epoch = 187 loss_train = 0.0198849951175919 loss_valid = 1.8998626373873817 accuracy = 0.6269155753691836\n"
     ]
    },
    {
     "name": "stderr",
     "output_type": "stream",
     "text": [
      "100%|██████████| 1795/1795 [00:42<00:00, 42.19it/s]\n"
     ]
    },
    {
     "name": "stdout",
     "output_type": "stream",
     "text": [
      "epoch = 188 loss_train = 0.015371544392045225 loss_valid = 2.0133872525559533 accuracy = 0.6210643633324046\n"
     ]
    },
    {
     "name": "stderr",
     "output_type": "stream",
     "text": [
      "100%|██████████| 1795/1795 [00:41<00:00, 43.12it/s]\n"
     ]
    },
    {
     "name": "stdout",
     "output_type": "stream",
     "text": [
      "epoch = 189 loss_train = 0.018703476788851783 loss_valid = 2.086900869872835 accuracy = 0.6191139593201449\n"
     ]
    },
    {
     "name": "stderr",
     "output_type": "stream",
     "text": [
      "100%|██████████| 1795/1795 [00:41<00:00, 42.99it/s]\n"
     ]
    },
    {
     "name": "stdout",
     "output_type": "stream",
     "text": [
      "epoch = 190 loss_train = 0.020280395366684703 loss_valid = 2.011115210056305 accuracy = 0.616049038729451\n"
     ]
    },
    {
     "name": "stderr",
     "output_type": "stream",
     "text": [
      "100%|██████████| 1795/1795 [00:41<00:00, 43.13it/s]\n"
     ]
    },
    {
     "name": "stdout",
     "output_type": "stream",
     "text": [
      "epoch = 191 loss_train = 0.016353857257643763 loss_valid = 2.0898779149187936 accuracy = 0.6138200055725829\n"
     ]
    },
    {
     "name": "stderr",
     "output_type": "stream",
     "text": [
      "100%|██████████| 1795/1795 [00:41<00:00, 43.05it/s]\n"
     ]
    },
    {
     "name": "stdout",
     "output_type": "stream",
     "text": [
      "epoch = 192 loss_train = 0.015764487304656735 loss_valid = 2.068256143066618 accuracy = 0.6107550849818891\n"
     ]
    },
    {
     "name": "stderr",
     "output_type": "stream",
     "text": [
      "100%|██████████| 1795/1795 [00:42<00:00, 41.99it/s]\n"
     ]
    },
    {
     "name": "stdout",
     "output_type": "stream",
     "text": [
      "epoch = 193 loss_train = 0.016692671858837157 loss_valid = 2.116544411381086 accuracy = 0.609640568403455\n"
     ]
    },
    {
     "name": "stderr",
     "output_type": "stream",
     "text": [
      "100%|██████████| 1795/1795 [00:41<00:00, 43.18it/s]\n"
     ]
    },
    {
     "name": "stdout",
     "output_type": "stream",
     "text": [
      "epoch = 194 loss_train = 0.019360121522747496 loss_valid = 1.9949771943026118 accuracy = 0.6143772638617999\n"
     ]
    },
    {
     "name": "stderr",
     "output_type": "stream",
     "text": [
      "100%|██████████| 1795/1795 [00:43<00:00, 41.08it/s]\n"
     ]
    },
    {
     "name": "stdout",
     "output_type": "stream",
     "text": [
      "epoch = 195 loss_train = 0.01613513938888867 loss_valid = 2.0284976884391575 accuracy = 0.619671217609362\n"
     ]
    },
    {
     "name": "stderr",
     "output_type": "stream",
     "text": [
      "100%|██████████| 1795/1795 [00:42<00:00, 41.92it/s]\n"
     ]
    },
    {
     "name": "stdout",
     "output_type": "stream",
     "text": [
      "epoch = 196 loss_train = 0.016116300192176587 loss_valid = 2.1081302671962314 accuracy = 0.6157704095848425\n"
     ]
    },
    {
     "name": "stderr",
     "output_type": "stream",
     "text": [
      "100%|██████████| 1795/1795 [00:42<00:00, 41.98it/s]\n"
     ]
    },
    {
     "name": "stdout",
     "output_type": "stream",
     "text": [
      "epoch = 197 loss_train = 0.02031927331880774 loss_valid = 2.0502089662684333 accuracy = 0.6246865422123155\n"
     ]
    },
    {
     "name": "stderr",
     "output_type": "stream",
     "text": [
      "100%|██████████| 1795/1795 [00:43<00:00, 41.71it/s]\n"
     ]
    },
    {
     "name": "stdout",
     "output_type": "stream",
     "text": [
      "epoch = 198 loss_train = 0.01709451258590425 loss_valid = 2.036488562027613 accuracy = 0.6232933964892727\n"
     ]
    },
    {
     "name": "stderr",
     "output_type": "stream",
     "text": [
      "100%|██████████| 1795/1795 [00:42<00:00, 41.90it/s]\n"
     ]
    },
    {
     "name": "stdout",
     "output_type": "stream",
     "text": [
      "epoch = 199 loss_train = 0.016735952480515032 loss_valid = 2.1011002628008524 accuracy = 0.6132627472833658\n"
     ]
    },
    {
     "name": "stderr",
     "output_type": "stream",
     "text": [
      "100%|██████████| 1795/1795 [00:44<00:00, 40.44it/s]\n"
     ]
    },
    {
     "name": "stdout",
     "output_type": "stream",
     "text": [
      "epoch = 200 loss_train = 0.016672311867579972 loss_valid = 2.0275075680679744 accuracy = 0.6174421844524938\n"
     ]
    },
    {
     "name": "stderr",
     "output_type": "stream",
     "text": [
      "100%|██████████| 1795/1795 [00:43<00:00, 41.26it/s]\n"
     ]
    },
    {
     "name": "stdout",
     "output_type": "stream",
     "text": [
      "epoch = 201 loss_train = 0.017579425527007635 loss_valid = 2.0169541043705412 accuracy = 0.6305377542490944\n"
     ]
    },
    {
     "name": "stderr",
     "output_type": "stream",
     "text": [
      "100%|██████████| 1795/1795 [00:44<00:00, 40.28it/s]\n"
     ]
    },
    {
     "name": "stdout",
     "output_type": "stream",
     "text": [
      "epoch = 202 loss_train = 0.017937695040584768 loss_valid = 2.0173597741127014 accuracy = 0.6235720256338813\n"
     ]
    },
    {
     "name": "stderr",
     "output_type": "stream",
     "text": [
      "100%|██████████| 1795/1795 [00:41<00:00, 43.08it/s]\n"
     ]
    },
    {
     "name": "stdout",
     "output_type": "stream",
     "text": [
      "epoch = 203 loss_train = 0.015113342318392094 loss_valid = 2.0364092018206916 accuracy = 0.6330454165505712\n"
     ]
    },
    {
     "name": "stderr",
     "output_type": "stream",
     "text": [
      "100%|██████████| 1795/1795 [00:41<00:00, 42.90it/s]\n"
     ]
    },
    {
     "name": "stdout",
     "output_type": "stream",
     "text": [
      "epoch = 204 loss_train = 0.018280666323405963 loss_valid = 2.051909355852339 accuracy = 0.6219002507662301\n"
     ]
    },
    {
     "name": "stderr",
     "output_type": "stream",
     "text": [
      "100%|██████████| 1795/1795 [00:41<00:00, 43.21it/s]\n"
     ]
    },
    {
     "name": "stdout",
     "output_type": "stream",
     "text": [
      "epoch = 205 loss_train = 0.02014166493674748 loss_valid = 1.962993653482861 accuracy = 0.6221788799108386\n"
     ]
    },
    {
     "name": "stderr",
     "output_type": "stream",
     "text": [
      "100%|██████████| 1795/1795 [00:41<00:00, 42.95it/s]\n"
     ]
    },
    {
     "name": "stdout",
     "output_type": "stream",
     "text": [
      "epoch = 206 loss_train = 0.014947145149507122 loss_valid = 2.0527268279261057 accuracy = 0.6177208135971023\n"
     ]
    },
    {
     "name": "stderr",
     "output_type": "stream",
     "text": [
      "100%|██████████| 1795/1795 [00:42<00:00, 42.03it/s]\n"
     ]
    },
    {
     "name": "stdout",
     "output_type": "stream",
     "text": [
      "epoch = 207 loss_train = 0.015561401658839376 loss_valid = 2.080047140518824 accuracy = 0.6205071050431875\n"
     ]
    },
    {
     "name": "stderr",
     "output_type": "stream",
     "text": [
      "100%|██████████| 1795/1795 [00:41<00:00, 43.07it/s]\n"
     ]
    },
    {
     "name": "stdout",
     "output_type": "stream",
     "text": [
      "epoch = 208 loss_train = 0.017337888766602715 loss_valid = 1.9435036057896085 accuracy = 0.6205071050431875\n"
     ]
    },
    {
     "name": "stderr",
     "output_type": "stream",
     "text": [
      "100%|██████████| 1795/1795 [00:42<00:00, 41.89it/s]\n"
     ]
    },
    {
     "name": "stdout",
     "output_type": "stream",
     "text": [
      "epoch = 209 loss_train = 0.015748154657427463 loss_valid = 1.985565087331666 accuracy = 0.6099191975480636\n"
     ]
    },
    {
     "name": "stderr",
     "output_type": "stream",
     "text": [
      "100%|██████████| 1795/1795 [00:41<00:00, 43.20it/s]\n"
     ]
    },
    {
     "name": "stdout",
     "output_type": "stream",
     "text": [
      "epoch = 210 loss_train = 0.01598773690657304 loss_valid = 2.154598134358724 accuracy = 0.6076901643911953\n"
     ]
    },
    {
     "name": "stderr",
     "output_type": "stream",
     "text": [
      "100%|██████████| 1795/1795 [00:42<00:00, 42.41it/s]\n"
     ]
    },
    {
     "name": "stdout",
     "output_type": "stream",
     "text": [
      "epoch = 211 loss_train = 0.014505045446779842 loss_valid = 1.9390722731749217 accuracy = 0.6235720256338813\n"
     ]
    },
    {
     "name": "stderr",
     "output_type": "stream",
     "text": [
      "100%|██████████| 1795/1795 [00:41<00:00, 43.05it/s]\n"
     ]
    },
    {
     "name": "stdout",
     "output_type": "stream",
     "text": [
      "epoch = 212 loss_train = 0.017211248184509934 loss_valid = 2.102134681807624 accuracy = 0.6213429924770131\n"
     ]
    },
    {
     "name": "stderr",
     "output_type": "stream",
     "text": [
      "100%|██████████| 1795/1795 [00:41<00:00, 43.03it/s]\n"
     ]
    },
    {
     "name": "stdout",
     "output_type": "stream",
     "text": [
      "epoch = 213 loss_train = 0.01852852426064426 loss_valid = 1.965583748817444 accuracy = 0.6232933964892727\n"
     ]
    },
    {
     "name": "stderr",
     "output_type": "stream",
     "text": [
      "100%|██████████| 1795/1795 [00:42<00:00, 41.84it/s]\n"
     ]
    },
    {
     "name": "stdout",
     "output_type": "stream",
     "text": [
      "epoch = 214 loss_train = 0.015545175217264633 loss_valid = 2.129262175957362 accuracy = 0.6177208135971023\n"
     ]
    },
    {
     "name": "stderr",
     "output_type": "stream",
     "text": [
      "100%|██████████| 1795/1795 [00:41<00:00, 43.19it/s]\n"
     ]
    },
    {
     "name": "stdout",
     "output_type": "stream",
     "text": [
      "epoch = 215 loss_train = 0.01618937903570296 loss_valid = 2.0795527897278467 accuracy = 0.6210643633324046\n"
     ]
    },
    {
     "name": "stderr",
     "output_type": "stream",
     "text": [
      "100%|██████████| 1795/1795 [00:43<00:00, 41.60it/s]\n"
     ]
    },
    {
     "name": "stdout",
     "output_type": "stream",
     "text": [
      "epoch = 216 loss_train = 0.01531437314184272 loss_valid = 2.1506371341811286 accuracy = 0.6221788799108386\n"
     ]
    },
    {
     "name": "stderr",
     "output_type": "stream",
     "text": [
      "100%|██████████| 1795/1795 [00:42<00:00, 41.83it/s]\n"
     ]
    },
    {
     "name": "stdout",
     "output_type": "stream",
     "text": [
      "epoch = 217 loss_train = 0.016789683806570505 loss_valid = 2.0762049407429166 accuracy = 0.6029534689328504\n"
     ]
    },
    {
     "name": "stderr",
     "output_type": "stream",
     "text": [
      "100%|██████████| 1795/1795 [00:43<00:00, 40.85it/s]\n"
     ]
    },
    {
     "name": "stdout",
     "output_type": "stream",
     "text": [
      "epoch = 218 loss_train = 0.014787478883605865 loss_valid = 2.1106616999043357 accuracy = 0.6174421844524938\n"
     ]
    },
    {
     "name": "stderr",
     "output_type": "stream",
     "text": [
      "100%|██████████| 1795/1795 [00:42<00:00, 41.79it/s]\n"
     ]
    },
    {
     "name": "stdout",
     "output_type": "stream",
     "text": [
      "epoch = 219 loss_train = 0.015235560386129571 loss_valid = 1.977749469810062 accuracy = 0.6269155753691836\n"
     ]
    },
    {
     "name": "stderr",
     "output_type": "stream",
     "text": [
      "100%|██████████| 1795/1795 [00:43<00:00, 41.38it/s]\n"
     ]
    },
    {
     "name": "stdout",
     "output_type": "stream",
     "text": [
      "epoch = 220 loss_train = 0.01685048371007643 loss_valid = 2.0640815477238763 accuracy = 0.6277514628030092\n"
     ]
    },
    {
     "name": "stderr",
     "output_type": "stream",
     "text": [
      "100%|██████████| 1795/1795 [00:43<00:00, 41.64it/s]\n"
     ]
    },
    {
     "name": "stdout",
     "output_type": "stream",
     "text": [
      "epoch = 221 loss_train = 0.015822349727680485 loss_valid = 2.0609328711032866 accuracy = 0.6224575090554472\n"
     ]
    },
    {
     "name": "stderr",
     "output_type": "stream",
     "text": [
      "100%|██████████| 1795/1795 [00:43<00:00, 41.16it/s]\n"
     ]
    },
    {
     "name": "stdout",
     "output_type": "stream",
     "text": [
      "epoch = 222 loss_train = 0.0167299179917469 loss_valid = 2.0198284012079237 accuracy = 0.6118696015603232\n"
     ]
    },
    {
     "name": "stderr",
     "output_type": "stream",
     "text": [
      "100%|██████████| 1795/1795 [00:43<00:00, 41.72it/s]\n"
     ]
    },
    {
     "name": "stdout",
     "output_type": "stream",
     "text": [
      "epoch = 223 loss_train = 0.014960532521783285 loss_valid = 2.042305960257848 accuracy = 0.6199498467539705\n"
     ]
    },
    {
     "name": "stderr",
     "output_type": "stream",
     "text": [
      "100%|██████████| 1795/1795 [00:41<00:00, 43.20it/s]\n"
     ]
    },
    {
     "name": "stdout",
     "output_type": "stream",
     "text": [
      "epoch = 224 loss_train = 0.016030246203169497 loss_valid = 1.9350677882134915 accuracy = 0.625522429646141\n"
     ]
    },
    {
     "name": "stderr",
     "output_type": "stream",
     "text": [
      "100%|██████████| 1795/1795 [00:42<00:00, 41.81it/s]\n"
     ]
    },
    {
     "name": "stdout",
     "output_type": "stream",
     "text": [
      "epoch = 225 loss_train = 0.01423316755275142 loss_valid = 1.9994252573119269 accuracy = 0.6107550849818891\n"
     ]
    },
    {
     "name": "stderr",
     "output_type": "stream",
     "text": [
      "100%|██████████| 1795/1795 [00:41<00:00, 42.90it/s]\n"
     ]
    },
    {
     "name": "stdout",
     "output_type": "stream",
     "text": [
      "epoch = 226 loss_train = 0.014777532801552976 loss_valid = 2.081359904209773 accuracy = 0.6146558930064084\n"
     ]
    },
    {
     "name": "stderr",
     "output_type": "stream",
     "text": [
      "100%|██████████| 1795/1795 [00:42<00:00, 41.93it/s]\n"
     ]
    },
    {
     "name": "stdout",
     "output_type": "stream",
     "text": [
      "epoch = 227 loss_train = 0.013695753705651745 loss_valid = 2.1715640136930676 accuracy = 0.6179994427417108\n"
     ]
    },
    {
     "name": "stderr",
     "output_type": "stream",
     "text": [
      "100%|██████████| 1795/1795 [00:41<00:00, 43.00it/s]\n"
     ]
    },
    {
     "name": "stdout",
     "output_type": "stream",
     "text": [
      "epoch = 228 loss_train = 0.01649615668264886 loss_valid = 2.020224844084846 accuracy = 0.6199498467539705\n"
     ]
    },
    {
     "name": "stderr",
     "output_type": "stream",
     "text": [
      "100%|██████████| 1795/1795 [00:41<00:00, 43.15it/s]\n"
     ]
    },
    {
     "name": "stdout",
     "output_type": "stream",
     "text": [
      "epoch = 229 loss_train = 0.016552315345514542 loss_valid = 1.9842736220359802 accuracy = 0.6191139593201449\n"
     ]
    },
    {
     "name": "stderr",
     "output_type": "stream",
     "text": [
      "100%|██████████| 1795/1795 [00:42<00:00, 41.85it/s]\n"
     ]
    },
    {
     "name": "stdout",
     "output_type": "stream",
     "text": [
      "epoch = 230 loss_train = 0.016376078303322158 loss_valid = 1.9257793780167898 accuracy = 0.6157704095848425\n"
     ]
    },
    {
     "name": "stderr",
     "output_type": "stream",
     "text": [
      "100%|██████████| 1795/1795 [00:41<00:00, 42.89it/s]\n"
     ]
    },
    {
     "name": "stdout",
     "output_type": "stream",
     "text": [
      "epoch = 231 loss_train = 0.015075543311235135 loss_valid = 2.009522063732147 accuracy = 0.6263583170799666\n"
     ]
    },
    {
     "name": "stderr",
     "output_type": "stream",
     "text": [
      "100%|██████████| 1795/1795 [00:42<00:00, 41.80it/s]\n"
     ]
    },
    {
     "name": "stdout",
     "output_type": "stream",
     "text": [
      "epoch = 232 loss_train = 0.013709903651813819 loss_valid = 2.112847710185581 accuracy = 0.6088046809696295\n"
     ]
    },
    {
     "name": "stderr",
     "output_type": "stream",
     "text": [
      "100%|██████████| 1795/1795 [00:41<00:00, 42.85it/s]\n"
     ]
    },
    {
     "name": "stdout",
     "output_type": "stream",
     "text": [
      "epoch = 233 loss_train = 0.01770417671668382 loss_valid = 1.941036643617683 accuracy = 0.6152131512956255\n"
     ]
    },
    {
     "name": "stderr",
     "output_type": "stream",
     "text": [
      "100%|██████████| 1795/1795 [00:43<00:00, 41.66it/s]\n"
     ]
    },
    {
     "name": "stdout",
     "output_type": "stream",
     "text": [
      "epoch = 234 loss_train = 0.014483086160428666 loss_valid = 1.9196363972293007 accuracy = 0.6235720256338813\n"
     ]
    },
    {
     "name": "stderr",
     "output_type": "stream",
     "text": [
      "100%|██████████| 1795/1795 [00:41<00:00, 43.01it/s]\n"
     ]
    },
    {
     "name": "stdout",
     "output_type": "stream",
     "text": [
      "epoch = 235 loss_train = 0.01476029409995006 loss_valid = 2.003339080678092 accuracy = 0.6193925884647534\n"
     ]
    },
    {
     "name": "stderr",
     "output_type": "stream",
     "text": [
      "100%|██████████| 1795/1795 [00:41<00:00, 42.74it/s]\n"
     ]
    },
    {
     "name": "stdout",
     "output_type": "stream",
     "text": [
      "epoch = 236 loss_train = 0.017286712118855116 loss_valid = 2.0102220390902623 accuracy = 0.6391752577319587\n"
     ]
    },
    {
     "name": "stderr",
     "output_type": "stream",
     "text": [
      "100%|██████████| 1795/1795 [00:43<00:00, 41.63it/s]\n"
     ]
    },
    {
     "name": "stdout",
     "output_type": "stream",
     "text": [
      "epoch = 237 loss_train = 0.014864503096457022 loss_valid = 1.9979761756791008 accuracy = 0.6235720256338813\n"
     ]
    },
    {
     "name": "stderr",
     "output_type": "stream",
     "text": [
      "100%|██████████| 1795/1795 [00:42<00:00, 41.96it/s]\n"
     ]
    },
    {
     "name": "stdout",
     "output_type": "stream",
     "text": [
      "epoch = 238 loss_train = 0.012635493162978843 loss_valid = 2.084211619297663 accuracy = 0.6297018668152689\n"
     ]
    },
    {
     "name": "stderr",
     "output_type": "stream",
     "text": [
      "100%|██████████| 1795/1795 [00:44<00:00, 40.64it/s]\n"
     ]
    },
    {
     "name": "stdout",
     "output_type": "stream",
     "text": [
      "epoch = 239 loss_train = 0.015204005962068726 loss_valid = 1.9859924136598905 accuracy = 0.6244079130677069\n"
     ]
    },
    {
     "name": "stderr",
     "output_type": "stream",
     "text": [
      "100%|██████████| 1795/1795 [00:43<00:00, 41.71it/s]\n"
     ]
    },
    {
     "name": "stdout",
     "output_type": "stream",
     "text": [
      "epoch = 240 loss_train = 0.014970366193974616 loss_valid = 2.0228938620620305 accuracy = 0.6232933964892727\n"
     ]
    },
    {
     "name": "stderr",
     "output_type": "stream",
     "text": [
      "100%|██████████| 1795/1795 [00:44<00:00, 40.54it/s]\n"
     ]
    },
    {
     "name": "stdout",
     "output_type": "stream",
     "text": [
      "epoch = 241 loss_train = 0.015782802456291756 loss_valid = 2.1044746190309525 accuracy = 0.6230147673446642\n"
     ]
    },
    {
     "name": "stderr",
     "output_type": "stream",
     "text": [
      "100%|██████████| 1795/1795 [00:43<00:00, 41.26it/s]\n"
     ]
    },
    {
     "name": "stdout",
     "output_type": "stream",
     "text": [
      "epoch = 242 loss_train = 0.01483998808984892 loss_valid = 2.005335101352798 accuracy = 0.6193925884647534\n"
     ]
    },
    {
     "name": "stderr",
     "output_type": "stream",
     "text": [
      "100%|██████████| 1795/1795 [00:44<00:00, 40.27it/s]\n"
     ]
    },
    {
     "name": "stdout",
     "output_type": "stream",
     "text": [
      "epoch = 243 loss_train = 0.015633234105167038 loss_valid = 2.0240870661205714 accuracy = 0.6168849261632767\n"
     ]
    },
    {
     "name": "stderr",
     "output_type": "stream",
     "text": [
      "100%|██████████| 1795/1795 [00:41<00:00, 42.77it/s]\n"
     ]
    },
    {
     "name": "stdout",
     "output_type": "stream",
     "text": [
      "epoch = 244 loss_train = 0.012554272036372455 loss_valid = 2.183488686945703 accuracy = 0.620228475898579\n"
     ]
    },
    {
     "name": "stderr",
     "output_type": "stream",
     "text": [
      "100%|██████████| 1795/1795 [00:44<00:00, 40.07it/s]\n"
     ]
    },
    {
     "name": "stdout",
     "output_type": "stream",
     "text": [
      "epoch = 245 loss_train = 0.01509286718011738 loss_valid = 2.1311988500257333 accuracy = 0.6213429924770131\n"
     ]
    },
    {
     "name": "stderr",
     "output_type": "stream",
     "text": [
      "100%|██████████| 1795/1795 [00:41<00:00, 42.93it/s]\n"
     ]
    },
    {
     "name": "stdout",
     "output_type": "stream",
     "text": [
      "epoch = 246 loss_train = 0.014959994091700245 loss_valid = 2.035944172785514 accuracy = 0.6263583170799666\n"
     ]
    },
    {
     "name": "stderr",
     "output_type": "stream",
     "text": [
      "100%|██████████| 1795/1795 [00:41<00:00, 43.03it/s]\n"
     ]
    },
    {
     "name": "stdout",
     "output_type": "stream",
     "text": [
      "epoch = 247 loss_train = 0.012836612720731312 loss_valid = 2.0688231994708377 accuracy = 0.620785734187796\n"
     ]
    },
    {
     "name": "stderr",
     "output_type": "stream",
     "text": [
      "100%|██████████| 1795/1795 [00:42<00:00, 42.08it/s]\n"
     ]
    },
    {
     "name": "stdout",
     "output_type": "stream",
     "text": [
      "epoch = 248 loss_train = 0.0134070798933632 loss_valid = 2.087245458314816 accuracy = 0.6216216216216216\n"
     ]
    },
    {
     "name": "stderr",
     "output_type": "stream",
     "text": [
      "100%|██████████| 1795/1795 [00:41<00:00, 43.21it/s]\n"
     ]
    },
    {
     "name": "stdout",
     "output_type": "stream",
     "text": [
      "epoch = 249 loss_train = 0.014666304143647823 loss_valid = 2.1534953824016783 accuracy = 0.6269155753691836\n"
     ]
    },
    {
     "name": "stderr",
     "output_type": "stream",
     "text": [
      "100%|██████████| 1795/1795 [00:42<00:00, 41.78it/s]\n"
     ]
    },
    {
     "name": "stdout",
     "output_type": "stream",
     "text": [
      "epoch = 250 loss_train = 0.013975171015542976 loss_valid = 2.0948214577303994 accuracy = 0.6143772638617999\n"
     ]
    },
    {
     "name": "stderr",
     "output_type": "stream",
     "text": [
      "100%|██████████| 1795/1795 [00:41<00:00, 43.28it/s]\n"
     ]
    },
    {
     "name": "stdout",
     "output_type": "stream",
     "text": [
      "epoch = 251 loss_train = 0.01690700244044442 loss_valid = 2.094923073185815 accuracy = 0.619671217609362\n"
     ]
    },
    {
     "name": "stderr",
     "output_type": "stream",
     "text": [
      "100%|██████████| 1795/1795 [00:42<00:00, 41.84it/s]\n"
     ]
    },
    {
     "name": "stdout",
     "output_type": "stream",
     "text": [
      "epoch = 252 loss_train = 0.012927600510424414 loss_valid = 2.0411930402285523 accuracy = 0.6205071050431875\n"
     ]
    },
    {
     "name": "stderr",
     "output_type": "stream",
     "text": [
      "100%|██████████| 1795/1795 [00:41<00:00, 43.12it/s]\n"
     ]
    },
    {
     "name": "stdout",
     "output_type": "stream",
     "text": [
      "epoch = 253 loss_train = 0.013594346908320096 loss_valid = 2.0068757993645137 accuracy = 0.6085260518250208\n"
     ]
    },
    {
     "name": "stderr",
     "output_type": "stream",
     "text": [
      "100%|██████████| 1795/1795 [00:42<00:00, 42.19it/s]\n"
     ]
    },
    {
     "name": "stdout",
     "output_type": "stream",
     "text": [
      "epoch = 254 loss_train = 0.014018779156381915 loss_valid = 2.2080117668708166 accuracy = 0.6113123432711062\n"
     ]
    },
    {
     "name": "stderr",
     "output_type": "stream",
     "text": [
      "100%|██████████| 1795/1795 [00:41<00:00, 43.05it/s]\n"
     ]
    },
    {
     "name": "stdout",
     "output_type": "stream",
     "text": [
      "epoch = 255 loss_train = 0.014196779927706531 loss_valid = 1.9778014549944136 accuracy = 0.6241292839230984\n"
     ]
    },
    {
     "name": "stderr",
     "output_type": "stream",
     "text": [
      "100%|██████████| 1795/1795 [00:41<00:00, 43.12it/s]\n"
     ]
    },
    {
     "name": "stdout",
     "output_type": "stream",
     "text": [
      "epoch = 256 loss_train = 0.01735749028470471 loss_valid = 1.9995604672034581 accuracy = 0.624965171356924\n"
     ]
    },
    {
     "name": "stderr",
     "output_type": "stream",
     "text": [
      "100%|██████████| 1795/1795 [00:41<00:00, 43.14it/s]\n"
     ]
    },
    {
     "name": "stdout",
     "output_type": "stream",
     "text": [
      "epoch = 257 loss_train = 0.015439725840254022 loss_valid = 2.0563080765472517 accuracy = 0.6299804959598774\n"
     ]
    },
    {
     "name": "stderr",
     "output_type": "stream",
     "text": [
      "100%|██████████| 1795/1795 [00:42<00:00, 42.63it/s]\n"
     ]
    },
    {
     "name": "stdout",
     "output_type": "stream",
     "text": [
      "epoch = 258 loss_train = 0.012996961496595313 loss_valid = 2.0765962024529774 accuracy = 0.6297018668152689\n"
     ]
    },
    {
     "name": "stderr",
     "output_type": "stream",
     "text": [
      "100%|██████████| 1795/1795 [00:43<00:00, 41.40it/s]\n"
     ]
    },
    {
     "name": "stdout",
     "output_type": "stream",
     "text": [
      "epoch = 259 loss_train = 0.011767193646595042 loss_valid = 2.0841842365927166 accuracy = 0.6213429924770131\n"
     ]
    },
    {
     "name": "stderr",
     "output_type": "stream",
     "text": [
      "100%|██████████| 1795/1795 [00:42<00:00, 42.07it/s]\n"
     ]
    },
    {
     "name": "stdout",
     "output_type": "stream",
     "text": [
      "epoch = 260 loss_train = 0.01504419468143919 loss_valid = 2.099394615756141 accuracy = 0.6174421844524938\n"
     ]
    },
    {
     "name": "stderr",
     "output_type": "stream",
     "text": [
      "100%|██████████| 1795/1795 [00:46<00:00, 38.80it/s]\n"
     ]
    },
    {
     "name": "stdout",
     "output_type": "stream",
     "text": [
      "epoch = 261 loss_train = 0.013416870545881572 loss_valid = 2.187972409725189 accuracy = 0.6143772638617999\n"
     ]
    },
    {
     "name": "stderr",
     "output_type": "stream",
     "text": [
      "  6%|▌         | 101/1795 [00:02<00:40, 41.68it/s]"
     ]
    }
   ],
   "source": [
    "def main(): # 코드가 실행될 main 함수를 만들어봅시다.\n",
    "    print(\"Training!\")\n",
    "    for epoch in range(0, 500):\n",
    "        \n",
    "        # loss와 accuracy 불러오기\n",
    "        # tensorboard에 loss와 정확도 나타내기(매 epoch 마다) -> 물론 선택사항입니다.\n",
    "        ## 여기에 코드 작성\n",
    "        loss_train = train(model, train_dataloader)\n",
    "        loss_valid, accuracy = validation(model, valid_dataloader)\n",
    "        print('epoch = ' + str(epoch), 'loss_train = '+str(loss_train), 'loss_valid = '+str(loss_valid), 'accuracy = ' + str(accuracy))\n",
    "\n",
    "        # 매 epoch 마다 checkpoint로 model을 저장할 필요가 있습니다.\n",
    "        # https://tutorials.pytorch.kr/recipes/recipes/saving_and_loading_a_general_checkpoint.html\n",
    "        ## 여기에 코드 작성\n",
    "        torch.save({\n",
    "            'epoch': epoch,\n",
    "            'model_state_dict': model.state_dict(),\n",
    "            'valid_acc': accuracy,\n",
    "            'optimizer_state_dict': optimizer.state_dict(),\n",
    "            'train_loss': loss_train,\n",
    "            'valid_loss': loss_valid,\n",
    "            }, 'vision_checkpoint/epoch_%d.pt'%epoch)\n",
    "    # writer.close() # Tensorboard 닫기\n",
    "\n",
    "\n",
    "# epoch 마다 train하는 코드 -> 정확도를 얻는 코드(중간미션에서 with torch.no_grad()로 작성하였던 부분)를 작성해야 합니다.\n",
    "# train_loss을 얻는 함수와 정확도를 얻는 함수를 각각 작성하는 것이 편리합니다.\n",
    "# loss = criterion(input,label)로 손실을 구할 수 있습니다. 이때 lnput과 label의 shape을 고려해야 합니다.\n",
    "# input = (minibatch,7) -> 감정이 7개의 class이므로 / label = (minibatch, )의 shape을 가집니다.\n",
    "# ***따라서 criterion을 이용해 loss을 구하기 전 input의 shape을 (minibatch,7)이 아니라면 꼭 이 shape으로 바꿔주어야 합니다! -> squeeze 함수 시용해보기\n",
    "# 알면 좋은 정보: from sklearn.metrics import accuracy_score을 통해 accuracy_score(label,prediction)로 정확도를 얻을 수 있습니다.\n",
    "\n",
    "\n",
    "if __name__ == \"__main__\": # 앞서 작성한 main 함수 실행\n",
    "    main()"
   ]
  },
  {
   "cell_type": "code",
   "execution_count": null,
   "metadata": {
    "id": "2Sray_mMkO4i"
   },
   "outputs": [],
   "source": [
    "'''\n",
    "# 저장해놓은 텐서보드 로드하기(in colab) - loss와 accuracy의 경향 확인\n",
    "%load_ext tensorboard\n",
    "%tensorboard --logdir {## 앞서 텐서보드를 저장했던 경로}\n",
    "'''"
   ]
  }
 ],
 "metadata": {
  "accelerator": "GPU",
  "colab": {
   "collapsed_sections": [],
   "name": "vision_train_final.ipynb",
   "provenance": []
  },
  "gpuClass": "standard",
  "kernelspec": {
   "display_name": "Python 3 (ipykernel)",
   "language": "python",
   "name": "python3"
  },
  "language_info": {
   "codemirror_mode": {
    "name": "ipython",
    "version": 3
   },
   "file_extension": ".py",
   "mimetype": "text/x-python",
   "name": "python",
   "nbconvert_exporter": "python",
   "pygments_lexer": "ipython3",
   "version": "3.9.12"
  }
 },
 "nbformat": 4,
 "nbformat_minor": 1
}
